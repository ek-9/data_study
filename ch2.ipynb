{
 "cells": [
  {
   "cell_type": "code",
   "execution_count": 6,
   "id": "initial_id",
   "metadata": {
    "collapsed": true,
    "ExecuteTime": {
     "end_time": "2024-02-19T12:18:09.851393Z",
     "start_time": "2024-02-19T12:18:09.476050Z"
    }
   },
   "outputs": [
    {
     "data": {
      "text/plain": "      purchase_date item_name  item_price customer_name\n0  2019-06-13 18:02       상품A       100.0           김가온\n1  2019-07-13 13:05     상 품 S         NaN           김우찬\n2  2019-05-11 19:42     상 품 a         NaN           김유찬\n3  2019-02-12 23:40       상품Z      2600.0           김재현\n4   2019-04-22 3:09       상품a         NaN           김강현",
      "text/html": "<div>\n<style scoped>\n    .dataframe tbody tr th:only-of-type {\n        vertical-align: middle;\n    }\n\n    .dataframe tbody tr th {\n        vertical-align: top;\n    }\n\n    .dataframe thead th {\n        text-align: right;\n    }\n</style>\n<table border=\"1\" class=\"dataframe\">\n  <thead>\n    <tr style=\"text-align: right;\">\n      <th></th>\n      <th>purchase_date</th>\n      <th>item_name</th>\n      <th>item_price</th>\n      <th>customer_name</th>\n    </tr>\n  </thead>\n  <tbody>\n    <tr>\n      <th>0</th>\n      <td>2019-06-13 18:02</td>\n      <td>상품A</td>\n      <td>100.0</td>\n      <td>김가온</td>\n    </tr>\n    <tr>\n      <th>1</th>\n      <td>2019-07-13 13:05</td>\n      <td>상 품 S</td>\n      <td>NaN</td>\n      <td>김우찬</td>\n    </tr>\n    <tr>\n      <th>2</th>\n      <td>2019-05-11 19:42</td>\n      <td>상 품 a</td>\n      <td>NaN</td>\n      <td>김유찬</td>\n    </tr>\n    <tr>\n      <th>3</th>\n      <td>2019-02-12 23:40</td>\n      <td>상품Z</td>\n      <td>2600.0</td>\n      <td>김재현</td>\n    </tr>\n    <tr>\n      <th>4</th>\n      <td>2019-04-22 3:09</td>\n      <td>상품a</td>\n      <td>NaN</td>\n      <td>김강현</td>\n    </tr>\n  </tbody>\n</table>\n</div>"
     },
     "execution_count": 6,
     "metadata": {},
     "output_type": "execute_result"
    }
   ],
   "source": [
    "import pandas as pd\n",
    "uriage_data = pd.read_csv(\"excelFiles/2장/uriage.csv\")\n",
    "uriage_data.head()\n"
   ]
  },
  {
   "cell_type": "code",
   "outputs": [
    {
     "data": {
      "text/plain": "'\\n데이터에 나타나는 입력 오류나 표기 방법의 차이가 부정합을 일으킬 때\\n데이터의 정합성에 문제가 있다. 라고한다\\n날짜 포맷이 다르면 같은 날짜라도 다른 문자열 데이터가 됨\\n또는 공백 유무로 다른 데이터로 인식될 수 있음\\n'"
     },
     "execution_count": 7,
     "metadata": {},
     "output_type": "execute_result"
    }
   ],
   "source": [
    "kokyaku_data = pd.read_excel(\"excelFiles/2장/kokyaku_daicho.xlsx\")\n",
    "kokyaku_data.head()\n",
    "\n",
    "'''\n",
    "데이터에 나타나는 입력 오류나 표기 방법의 차이가 부정합을 일으킬 때\n",
    "데이터의 정합성에 문제가 있다. 라고한다\n",
    "날짜 포맷이 다르면 같은 날짜라도 다른 문자열 데이터가 됨\n",
    "또는 공백 유무로 다른 데이터로 인식될 수 있음\n",
    "'''"
   ],
   "metadata": {
    "collapsed": false,
    "ExecuteTime": {
     "end_time": "2024-02-19T12:18:09.968410Z",
     "start_time": "2024-02-19T12:18:09.849208Z"
    }
   },
   "id": "3aa552a339aa7ecb",
   "execution_count": 7
  },
  {
   "cell_type": "code",
   "outputs": [
    {
     "data": {
      "text/plain": "0      상품A\n1    상 품 S\n2    상 품 a\n3      상품Z\n4      상품a\nName: item_name, dtype: object"
     },
     "execution_count": 8,
     "metadata": {},
     "output_type": "execute_result"
    }
   ],
   "source": [
    "uriage_data[\"item_name\"].head()"
   ],
   "metadata": {
    "collapsed": false,
    "ExecuteTime": {
     "end_time": "2024-02-19T12:18:09.969531Z",
     "start_time": "2024-02-19T12:18:09.966794Z"
    }
   },
   "id": "9179e633921bce3c",
   "execution_count": 8
  },
  {
   "cell_type": "code",
   "outputs": [
    {
     "data": {
      "text/plain": "0     100.0\n1       NaN\n2       NaN\n3    2600.0\n4       NaN\nName: item_price, dtype: float64"
     },
     "execution_count": 9,
     "metadata": {},
     "output_type": "execute_result"
    }
   ],
   "source": [
    "uriage_data[\"item_price\"].head()"
   ],
   "metadata": {
    "collapsed": false,
    "ExecuteTime": {
     "end_time": "2024-02-19T12:18:09.974742Z",
     "start_time": "2024-02-19T12:18:09.969819Z"
    }
   },
   "id": "c31a529a0a8b77ec",
   "execution_count": 9
  },
  {
   "cell_type": "code",
   "outputs": [
    {
     "data": {
      "text/plain": "item_name        상 품 n   상품 E   상품 M   상품 P   상품 S   상품 W   상품 X   상품W  상  품O  \\\npurchase_month                                                                  \n201901               1      0      0      0      0      0      0     0      0   \n201902               0      0      0      0      0      0      1     0      0   \n201903               0      1      1      1      0      0      0     0      0   \n201904               0      0      0      0      0      0      0     1      0   \n201905               0      0      0      0      1      0      0     0      0   \n201906               0      0      0      0      0      1      0     0      0   \n201907               0      0      0      0      0      0      0     0      1   \n\nitem_name       상  품Q  ...  상품k  상품l  상품o  상품p  상품r  상품s  상품t  상품v  상품x  상품y  \npurchase_month         ...                                                    \n201901              0  ...    1    1    1    0    0    0    0    0    0    0  \n201902              0  ...    0    0    0    0    0    1    1    1    0    0  \n201903              0  ...    0    0    0    0    0    0    0    0    0    0  \n201904              1  ...    0    0    0    0    0    1    0    0    0    0  \n201905              0  ...    0    1    0    0    0    0    0    0    0    1  \n201906              0  ...    0    0    0    1    0    0    0    0    1    0  \n201907              0  ...    0    0    1    0    2    0    0    0    0    0  \n\n[7 rows x 99 columns]",
      "text/html": "<div>\n<style scoped>\n    .dataframe tbody tr th:only-of-type {\n        vertical-align: middle;\n    }\n\n    .dataframe tbody tr th {\n        vertical-align: top;\n    }\n\n    .dataframe thead th {\n        text-align: right;\n    }\n</style>\n<table border=\"1\" class=\"dataframe\">\n  <thead>\n    <tr style=\"text-align: right;\">\n      <th>item_name</th>\n      <th>상 품 n</th>\n      <th>상품 E</th>\n      <th>상품 M</th>\n      <th>상품 P</th>\n      <th>상품 S</th>\n      <th>상품 W</th>\n      <th>상품 X</th>\n      <th>상품W</th>\n      <th>상  품O</th>\n      <th>상  품Q</th>\n      <th>...</th>\n      <th>상품k</th>\n      <th>상품l</th>\n      <th>상품o</th>\n      <th>상품p</th>\n      <th>상품r</th>\n      <th>상품s</th>\n      <th>상품t</th>\n      <th>상품v</th>\n      <th>상품x</th>\n      <th>상품y</th>\n    </tr>\n    <tr>\n      <th>purchase_month</th>\n      <th></th>\n      <th></th>\n      <th></th>\n      <th></th>\n      <th></th>\n      <th></th>\n      <th></th>\n      <th></th>\n      <th></th>\n      <th></th>\n      <th></th>\n      <th></th>\n      <th></th>\n      <th></th>\n      <th></th>\n      <th></th>\n      <th></th>\n      <th></th>\n      <th></th>\n      <th></th>\n      <th></th>\n    </tr>\n  </thead>\n  <tbody>\n    <tr>\n      <th>201901</th>\n      <td>1</td>\n      <td>0</td>\n      <td>0</td>\n      <td>0</td>\n      <td>0</td>\n      <td>0</td>\n      <td>0</td>\n      <td>0</td>\n      <td>0</td>\n      <td>0</td>\n      <td>...</td>\n      <td>1</td>\n      <td>1</td>\n      <td>1</td>\n      <td>0</td>\n      <td>0</td>\n      <td>0</td>\n      <td>0</td>\n      <td>0</td>\n      <td>0</td>\n      <td>0</td>\n    </tr>\n    <tr>\n      <th>201902</th>\n      <td>0</td>\n      <td>0</td>\n      <td>0</td>\n      <td>0</td>\n      <td>0</td>\n      <td>0</td>\n      <td>1</td>\n      <td>0</td>\n      <td>0</td>\n      <td>0</td>\n      <td>...</td>\n      <td>0</td>\n      <td>0</td>\n      <td>0</td>\n      <td>0</td>\n      <td>0</td>\n      <td>1</td>\n      <td>1</td>\n      <td>1</td>\n      <td>0</td>\n      <td>0</td>\n    </tr>\n    <tr>\n      <th>201903</th>\n      <td>0</td>\n      <td>1</td>\n      <td>1</td>\n      <td>1</td>\n      <td>0</td>\n      <td>0</td>\n      <td>0</td>\n      <td>0</td>\n      <td>0</td>\n      <td>0</td>\n      <td>...</td>\n      <td>0</td>\n      <td>0</td>\n      <td>0</td>\n      <td>0</td>\n      <td>0</td>\n      <td>0</td>\n      <td>0</td>\n      <td>0</td>\n      <td>0</td>\n      <td>0</td>\n    </tr>\n    <tr>\n      <th>201904</th>\n      <td>0</td>\n      <td>0</td>\n      <td>0</td>\n      <td>0</td>\n      <td>0</td>\n      <td>0</td>\n      <td>0</td>\n      <td>1</td>\n      <td>0</td>\n      <td>1</td>\n      <td>...</td>\n      <td>0</td>\n      <td>0</td>\n      <td>0</td>\n      <td>0</td>\n      <td>0</td>\n      <td>1</td>\n      <td>0</td>\n      <td>0</td>\n      <td>0</td>\n      <td>0</td>\n    </tr>\n    <tr>\n      <th>201905</th>\n      <td>0</td>\n      <td>0</td>\n      <td>0</td>\n      <td>0</td>\n      <td>1</td>\n      <td>0</td>\n      <td>0</td>\n      <td>0</td>\n      <td>0</td>\n      <td>0</td>\n      <td>...</td>\n      <td>0</td>\n      <td>1</td>\n      <td>0</td>\n      <td>0</td>\n      <td>0</td>\n      <td>0</td>\n      <td>0</td>\n      <td>0</td>\n      <td>0</td>\n      <td>1</td>\n    </tr>\n    <tr>\n      <th>201906</th>\n      <td>0</td>\n      <td>0</td>\n      <td>0</td>\n      <td>0</td>\n      <td>0</td>\n      <td>1</td>\n      <td>0</td>\n      <td>0</td>\n      <td>0</td>\n      <td>0</td>\n      <td>...</td>\n      <td>0</td>\n      <td>0</td>\n      <td>0</td>\n      <td>1</td>\n      <td>0</td>\n      <td>0</td>\n      <td>0</td>\n      <td>0</td>\n      <td>1</td>\n      <td>0</td>\n    </tr>\n    <tr>\n      <th>201907</th>\n      <td>0</td>\n      <td>0</td>\n      <td>0</td>\n      <td>0</td>\n      <td>0</td>\n      <td>0</td>\n      <td>0</td>\n      <td>0</td>\n      <td>1</td>\n      <td>0</td>\n      <td>...</td>\n      <td>0</td>\n      <td>0</td>\n      <td>1</td>\n      <td>0</td>\n      <td>2</td>\n      <td>0</td>\n      <td>0</td>\n      <td>0</td>\n      <td>0</td>\n      <td>0</td>\n    </tr>\n  </tbody>\n</table>\n<p>7 rows × 99 columns</p>\n</div>"
     },
     "execution_count": 10,
     "metadata": {},
     "output_type": "execute_result"
    }
   ],
   "source": [
    "# 매출 이력에서 상품별로 월 매출 합계 집계\n",
    "\n",
    "uriage_data[\"purchase_date\"] = pd.to_datetime(uriage_data[\"purchase_date\"])\n",
    "uriage_data[\"purchase_month\"] = uriage_data[\"purchase_date\"].dt.strftime(\"%Y%m\")\n",
    "res = uriage_data.pivot_table(index=\"purchase_month\", columns = \"item_name\", aggfunc=\"size\", fill_value = 0)\n",
    "res"
   ],
   "metadata": {
    "collapsed": false,
    "ExecuteTime": {
     "end_time": "2024-02-19T12:18:10.006742Z",
     "start_time": "2024-02-19T12:18:09.973686Z"
    }
   },
   "id": "3d538d790118dcd9",
   "execution_count": 10
  },
  {
   "cell_type": "code",
   "outputs": [
    {
     "data": {
      "text/plain": "item_name        상 품 n   상품 E   상품 M   상품 P   상품 S   상품 W   상품 X   상품W  상  품O  \\\npurchase_month                                                                  \n201901            1400      0      0      0      0      0      0     0      0   \n201902               0      0      0      0      0      0   2400     0      0   \n201903               0    500   1300   1600      0      0      0     0      0   \n201904               0      0      0      0      0      0      0  2300      0   \n201905               0      0      0      0   1900      0      0     0      0   \n201906               0      0      0      0      0   2300      0     0      0   \n201907               0      0      0      0      0      0      0     0      0   \n\nitem_name       상  품Q  ...   상품k   상품l   상품o   상품p   상품r   상품s   상품t   상품v  \\\npurchase_month         ...                                                   \n201901              0  ...  1100  1200  1500     0     0     0     0     0   \n201902              0  ...     0     0     0     0     0  1900  2000  2200   \n201903              0  ...     0     0     0     0     0     0     0     0   \n201904           1700  ...     0     0     0     0     0  1900     0     0   \n201905              0  ...     0  1200     0     0     0     0     0     0   \n201906              0  ...     0     0     0  1600     0     0     0     0   \n201907              0  ...     0     0  1500     0  1800     0     0     0   \n\nitem_name        상품x   상품y  \npurchase_month              \n201901             0     0  \n201902             0     0  \n201903             0     0  \n201904             0     0  \n201905             0  2500  \n201906          2400     0  \n201907             0     0  \n\n[7 rows x 99 columns]",
      "text/html": "<div>\n<style scoped>\n    .dataframe tbody tr th:only-of-type {\n        vertical-align: middle;\n    }\n\n    .dataframe tbody tr th {\n        vertical-align: top;\n    }\n\n    .dataframe thead th {\n        text-align: right;\n    }\n</style>\n<table border=\"1\" class=\"dataframe\">\n  <thead>\n    <tr style=\"text-align: right;\">\n      <th>item_name</th>\n      <th>상 품 n</th>\n      <th>상품 E</th>\n      <th>상품 M</th>\n      <th>상품 P</th>\n      <th>상품 S</th>\n      <th>상품 W</th>\n      <th>상품 X</th>\n      <th>상품W</th>\n      <th>상  품O</th>\n      <th>상  품Q</th>\n      <th>...</th>\n      <th>상품k</th>\n      <th>상품l</th>\n      <th>상품o</th>\n      <th>상품p</th>\n      <th>상품r</th>\n      <th>상품s</th>\n      <th>상품t</th>\n      <th>상품v</th>\n      <th>상품x</th>\n      <th>상품y</th>\n    </tr>\n    <tr>\n      <th>purchase_month</th>\n      <th></th>\n      <th></th>\n      <th></th>\n      <th></th>\n      <th></th>\n      <th></th>\n      <th></th>\n      <th></th>\n      <th></th>\n      <th></th>\n      <th></th>\n      <th></th>\n      <th></th>\n      <th></th>\n      <th></th>\n      <th></th>\n      <th></th>\n      <th></th>\n      <th></th>\n      <th></th>\n      <th></th>\n    </tr>\n  </thead>\n  <tbody>\n    <tr>\n      <th>201901</th>\n      <td>1400</td>\n      <td>0</td>\n      <td>0</td>\n      <td>0</td>\n      <td>0</td>\n      <td>0</td>\n      <td>0</td>\n      <td>0</td>\n      <td>0</td>\n      <td>0</td>\n      <td>...</td>\n      <td>1100</td>\n      <td>1200</td>\n      <td>1500</td>\n      <td>0</td>\n      <td>0</td>\n      <td>0</td>\n      <td>0</td>\n      <td>0</td>\n      <td>0</td>\n      <td>0</td>\n    </tr>\n    <tr>\n      <th>201902</th>\n      <td>0</td>\n      <td>0</td>\n      <td>0</td>\n      <td>0</td>\n      <td>0</td>\n      <td>0</td>\n      <td>2400</td>\n      <td>0</td>\n      <td>0</td>\n      <td>0</td>\n      <td>...</td>\n      <td>0</td>\n      <td>0</td>\n      <td>0</td>\n      <td>0</td>\n      <td>0</td>\n      <td>1900</td>\n      <td>2000</td>\n      <td>2200</td>\n      <td>0</td>\n      <td>0</td>\n    </tr>\n    <tr>\n      <th>201903</th>\n      <td>0</td>\n      <td>500</td>\n      <td>1300</td>\n      <td>1600</td>\n      <td>0</td>\n      <td>0</td>\n      <td>0</td>\n      <td>0</td>\n      <td>0</td>\n      <td>0</td>\n      <td>...</td>\n      <td>0</td>\n      <td>0</td>\n      <td>0</td>\n      <td>0</td>\n      <td>0</td>\n      <td>0</td>\n      <td>0</td>\n      <td>0</td>\n      <td>0</td>\n      <td>0</td>\n    </tr>\n    <tr>\n      <th>201904</th>\n      <td>0</td>\n      <td>0</td>\n      <td>0</td>\n      <td>0</td>\n      <td>0</td>\n      <td>0</td>\n      <td>0</td>\n      <td>2300</td>\n      <td>0</td>\n      <td>1700</td>\n      <td>...</td>\n      <td>0</td>\n      <td>0</td>\n      <td>0</td>\n      <td>0</td>\n      <td>0</td>\n      <td>1900</td>\n      <td>0</td>\n      <td>0</td>\n      <td>0</td>\n      <td>0</td>\n    </tr>\n    <tr>\n      <th>201905</th>\n      <td>0</td>\n      <td>0</td>\n      <td>0</td>\n      <td>0</td>\n      <td>1900</td>\n      <td>0</td>\n      <td>0</td>\n      <td>0</td>\n      <td>0</td>\n      <td>0</td>\n      <td>...</td>\n      <td>0</td>\n      <td>1200</td>\n      <td>0</td>\n      <td>0</td>\n      <td>0</td>\n      <td>0</td>\n      <td>0</td>\n      <td>0</td>\n      <td>0</td>\n      <td>2500</td>\n    </tr>\n    <tr>\n      <th>201906</th>\n      <td>0</td>\n      <td>0</td>\n      <td>0</td>\n      <td>0</td>\n      <td>0</td>\n      <td>2300</td>\n      <td>0</td>\n      <td>0</td>\n      <td>0</td>\n      <td>0</td>\n      <td>...</td>\n      <td>0</td>\n      <td>0</td>\n      <td>0</td>\n      <td>1600</td>\n      <td>0</td>\n      <td>0</td>\n      <td>0</td>\n      <td>0</td>\n      <td>2400</td>\n      <td>0</td>\n    </tr>\n    <tr>\n      <th>201907</th>\n      <td>0</td>\n      <td>0</td>\n      <td>0</td>\n      <td>0</td>\n      <td>0</td>\n      <td>0</td>\n      <td>0</td>\n      <td>0</td>\n      <td>0</td>\n      <td>0</td>\n      <td>...</td>\n      <td>0</td>\n      <td>0</td>\n      <td>1500</td>\n      <td>0</td>\n      <td>1800</td>\n      <td>0</td>\n      <td>0</td>\n      <td>0</td>\n      <td>0</td>\n      <td>0</td>\n    </tr>\n  </tbody>\n</table>\n<p>7 rows × 99 columns</p>\n</div>"
     },
     "execution_count": 11,
     "metadata": {},
     "output_type": "execute_result"
    }
   ],
   "source": [
    "res = uriage_data.pivot_table(index = \"purchase_month\", columns=\"item_name\", values=\"item_price\", aggfunc=\"sum\", fill_value=0)\n",
    "res\n"
   ],
   "metadata": {
    "collapsed": false,
    "ExecuteTime": {
     "end_time": "2024-02-19T12:18:10.026828Z",
     "start_time": "2024-02-19T12:18:10.009204Z"
    }
   },
   "id": "e7c4b3d79fafe875",
   "execution_count": 11
  },
  {
   "cell_type": "code",
   "outputs": [
    {
     "name": "stdout",
     "output_type": "stream",
     "text": [
      "99\n"
     ]
    }
   ],
   "source": [
    "'''\n",
    "unique : 데이터에서 고유값의 종류를 찾는데 이용\n",
    "df[].unique()\n",
    "nunique : 데이터의 고유값의 수를 찾는데 이용\n",
    "df[].nunique()\n",
    "value_counts : 데이터의 값별로 개수 확인\n",
    "df[].value_counts()\n",
    "'''\n",
    "\n",
    "\n",
    "print(len(pd.unique(uriage_data[\"item_name\"])))"
   ],
   "metadata": {
    "collapsed": false,
    "ExecuteTime": {
     "end_time": "2024-02-19T12:18:10.036301Z",
     "start_time": "2024-02-19T12:18:10.024032Z"
    }
   },
   "id": "d0a086268e1a849c",
   "execution_count": 12
  },
  {
   "cell_type": "code",
   "outputs": [
    {
     "name": "stdout",
     "output_type": "stream",
     "text": [
      "99\n"
     ]
    }
   ],
   "source": [
    "print(uriage_data[\"item_name\"].nunique())"
   ],
   "metadata": {
    "collapsed": false,
    "ExecuteTime": {
     "end_time": "2024-02-19T12:18:10.046518Z",
     "start_time": "2024-02-19T12:18:10.027937Z"
    }
   },
   "id": "e4023998cc45a108",
   "execution_count": 13
  },
  {
   "cell_type": "code",
   "outputs": [
    {
     "data": {
      "text/plain": "'\\nsort_values : 값을 기준으로 레이블 정렬\\nby : 정렬 기준 행 또는 열. 두개 설정시 첫번쨰 기준이 같을 시 두번쨰 기준으로 정렬\\naxis : {0 : index / 1: columns} 0이면 행, 1이면 열을 기준으로 정렬합니다.\\ninplace : 원본을 대체할지 여부. True일 경우 원본을 대체.\\nkind : 알고리즘 모드 설정가능. \\n    모드는 총 4종으로 quicksort, mergesort, heapsort, stable이 있는데, 기본은 quicksort\\nna_position : {first / last} Na값의 위치. 기본값은 last로 정렬시 맨 뒤에 위치.\\nignore_index : 인덱스의 무시 여부입니다. True일 경우 인덱스의 순서와 상관없이 0,1,2,... 로 정해짐.\\nkey : 이 인수를 통해 정렬방식으로 함수를 사용할 수 있습니다. lamba의 사용이 가능합니다.\\nascending : True일 경우 오름차순\\n'"
     },
     "execution_count": 14,
     "metadata": {},
     "output_type": "execute_result"
    }
   ],
   "source": [
    "uriage_data[\"item_name\"] = uriage_data[\"item_name\"].str.upper()\n",
    "uriage_data[\"item_name\"] = uriage_data[\"item_name\"].str.replace(\" \",\"\")\n",
    "uriage_data[\"item_name\"] = uriage_data[\"item_name\"].str.replace(\" \",\"\")\n",
    "uriage_data.sort_values(by=[\"item_name\"], ascending=True)\n",
    "\n",
    "'''\n",
    "sort_values : 값을 기준으로 레이블 정렬\n",
    "by : 정렬 기준 행 또는 열. 두개 설정시 첫번쨰 기준이 같을 시 두번쨰 기준으로 정렬\n",
    "axis : {0 : index / 1: columns} 0이면 행, 1이면 열을 기준으로 정렬합니다.\n",
    "inplace : 원본을 대체할지 여부. True일 경우 원본을 대체.\n",
    "kind : 알고리즘 모드 설정가능. \n",
    "    모드는 총 4종으로 quicksort, mergesort, heapsort, stable이 있는데, 기본은 quicksort\n",
    "na_position : {first / last} Na값의 위치. 기본값은 last로 정렬시 맨 뒤에 위치.\n",
    "ignore_index : 인덱스의 무시 여부입니다. True일 경우 인덱스의 순서와 상관없이 0,1,2,... 로 정해짐.\n",
    "key : 이 인수를 통해 정렬방식으로 함수를 사용할 수 있습니다. lamba의 사용이 가능합니다.\n",
    "ascending : True일 경우 오름차순\n",
    "'''\n"
   ],
   "metadata": {
    "collapsed": false,
    "ExecuteTime": {
     "end_time": "2024-02-19T12:18:10.083397Z",
     "start_time": "2024-02-19T12:18:10.033676Z"
    }
   },
   "id": "67811443c50dc38a",
   "execution_count": 14
  },
  {
   "cell_type": "code",
   "outputs": [
    {
     "name": "stdout",
     "output_type": "stream",
     "text": [
      "26\n"
     ]
    }
   ],
   "source": [
    "print(len(pd.unique(uriage_data[\"item_name\"])))"
   ],
   "metadata": {
    "collapsed": false,
    "ExecuteTime": {
     "end_time": "2024-02-19T12:18:10.097797Z",
     "start_time": "2024-02-19T12:18:10.040850Z"
    }
   },
   "id": "5f5cba8b5cc9ae73",
   "execution_count": 15
  },
  {
   "cell_type": "code",
   "outputs": [
    {
     "name": "stdout",
     "output_type": "stream",
     "text": [
      "['상품A' '상품S' '상품Z' '상품V' '상품O' '상품U' '상품L' '상품C' '상품I' '상품R' '상품X' '상품G'\n",
      " '상품P' '상품Q' '상품Y' '상품N' '상품W' '상품E' '상품K' '상품B' '상품F' '상품D' '상품M' '상품H'\n",
      " '상품T' '상품J']\n"
     ]
    }
   ],
   "source": [
    "print(pd.unique(uriage_data[\"item_name\"]))"
   ],
   "metadata": {
    "collapsed": false,
    "ExecuteTime": {
     "end_time": "2024-02-19T12:18:10.144974Z",
     "start_time": "2024-02-19T12:18:10.043105Z"
    }
   },
   "id": "2f37a19b59a7b4e9",
   "execution_count": 16
  },
  {
   "cell_type": "code",
   "outputs": [
    {
     "data": {
      "text/plain": "purchase_date     False\nitem_name         False\nitem_price         True\ncustomer_name     False\npurchase_month    False\ndtype: bool"
     },
     "execution_count": 17,
     "metadata": {},
     "output_type": "execute_result"
    }
   ],
   "source": [
    "'''\n",
    "isnull() : 결측치 확인. 결측치 일시 True 반환\n",
    "any() : 하나라도 있으면 True 반환\n",
    "'''\n",
    "\n",
    "# uriage_data.isnull()\n",
    "uriage_data.isnull().any(axis=0)"
   ],
   "metadata": {
    "collapsed": false,
    "ExecuteTime": {
     "end_time": "2024-02-19T12:18:10.180809Z",
     "start_time": "2024-02-19T12:18:10.046017Z"
    }
   },
   "id": "d93b4bc9c712ea29",
   "execution_count": 17
  },
  {
   "cell_type": "code",
   "outputs": [
    {
     "name": "stdout",
     "output_type": "stream",
     "text": [
      "0       False\n",
      "1        True\n",
      "2        True\n",
      "3       False\n",
      "4        True\n",
      "        ...  \n",
      "2994    False\n",
      "2995    False\n",
      "2996     True\n",
      "2997     True\n",
      "2998    False\n",
      "Name: item_price, Length: 2999, dtype: bool\n"
     ]
    }
   ],
   "source": [
    "# 결측치가 있는 곳 조사\n",
    "fig_is_null = uriage_data[\"item_price\"].isnull()\n",
    "print(fig_is_null)"
   ],
   "metadata": {
    "collapsed": false,
    "ExecuteTime": {
     "end_time": "2024-02-19T12:18:10.247441Z",
     "start_time": "2024-02-19T12:18:10.052903Z"
    }
   },
   "id": "ae34188d799e16d4",
   "execution_count": 18
  },
  {
   "cell_type": "code",
   "outputs": [
    {
     "name": "stderr",
     "output_type": "stream",
     "text": [
      "/var/folders/r4/h5tmjmlj1wj54cmxzmf66mw40000gn/T/ipykernel_66653/1846173687.py:5: SettingWithCopyWarning: \n",
      "A value is trying to be set on a copy of a slice from a DataFrame\n",
      "\n",
      "See the caveats in the documentation: https://pandas.pydata.org/pandas-docs/stable/user_guide/indexing.html#returning-a-view-versus-a-copy\n",
      "  uriage_data[\"item_price\"].loc[(fig_is_null) & (uriage_data[\"item_name\"] == trg)] = price\n",
      "/var/folders/r4/h5tmjmlj1wj54cmxzmf66mw40000gn/T/ipykernel_66653/1846173687.py:5: SettingWithCopyWarning: \n",
      "A value is trying to be set on a copy of a slice from a DataFrame\n",
      "\n",
      "See the caveats in the documentation: https://pandas.pydata.org/pandas-docs/stable/user_guide/indexing.html#returning-a-view-versus-a-copy\n",
      "  uriage_data[\"item_price\"].loc[(fig_is_null) & (uriage_data[\"item_name\"] == trg)] = price\n",
      "/var/folders/r4/h5tmjmlj1wj54cmxzmf66mw40000gn/T/ipykernel_66653/1846173687.py:5: SettingWithCopyWarning: \n",
      "A value is trying to be set on a copy of a slice from a DataFrame\n",
      "\n",
      "See the caveats in the documentation: https://pandas.pydata.org/pandas-docs/stable/user_guide/indexing.html#returning-a-view-versus-a-copy\n",
      "  uriage_data[\"item_price\"].loc[(fig_is_null) & (uriage_data[\"item_name\"] == trg)] = price\n",
      "/var/folders/r4/h5tmjmlj1wj54cmxzmf66mw40000gn/T/ipykernel_66653/1846173687.py:5: SettingWithCopyWarning: \n",
      "A value is trying to be set on a copy of a slice from a DataFrame\n",
      "\n",
      "See the caveats in the documentation: https://pandas.pydata.org/pandas-docs/stable/user_guide/indexing.html#returning-a-view-versus-a-copy\n",
      "  uriage_data[\"item_price\"].loc[(fig_is_null) & (uriage_data[\"item_name\"] == trg)] = price\n",
      "/var/folders/r4/h5tmjmlj1wj54cmxzmf66mw40000gn/T/ipykernel_66653/1846173687.py:5: SettingWithCopyWarning: \n",
      "A value is trying to be set on a copy of a slice from a DataFrame\n",
      "\n",
      "See the caveats in the documentation: https://pandas.pydata.org/pandas-docs/stable/user_guide/indexing.html#returning-a-view-versus-a-copy\n",
      "  uriage_data[\"item_price\"].loc[(fig_is_null) & (uriage_data[\"item_name\"] == trg)] = price\n",
      "/var/folders/r4/h5tmjmlj1wj54cmxzmf66mw40000gn/T/ipykernel_66653/1846173687.py:5: SettingWithCopyWarning: \n",
      "A value is trying to be set on a copy of a slice from a DataFrame\n",
      "\n",
      "See the caveats in the documentation: https://pandas.pydata.org/pandas-docs/stable/user_guide/indexing.html#returning-a-view-versus-a-copy\n",
      "  uriage_data[\"item_price\"].loc[(fig_is_null) & (uriage_data[\"item_name\"] == trg)] = price\n",
      "/var/folders/r4/h5tmjmlj1wj54cmxzmf66mw40000gn/T/ipykernel_66653/1846173687.py:5: SettingWithCopyWarning: \n",
      "A value is trying to be set on a copy of a slice from a DataFrame\n",
      "\n",
      "See the caveats in the documentation: https://pandas.pydata.org/pandas-docs/stable/user_guide/indexing.html#returning-a-view-versus-a-copy\n",
      "  uriage_data[\"item_price\"].loc[(fig_is_null) & (uriage_data[\"item_name\"] == trg)] = price\n",
      "/var/folders/r4/h5tmjmlj1wj54cmxzmf66mw40000gn/T/ipykernel_66653/1846173687.py:5: SettingWithCopyWarning: \n",
      "A value is trying to be set on a copy of a slice from a DataFrame\n",
      "\n",
      "See the caveats in the documentation: https://pandas.pydata.org/pandas-docs/stable/user_guide/indexing.html#returning-a-view-versus-a-copy\n",
      "  uriage_data[\"item_price\"].loc[(fig_is_null) & (uriage_data[\"item_name\"] == trg)] = price\n",
      "/var/folders/r4/h5tmjmlj1wj54cmxzmf66mw40000gn/T/ipykernel_66653/1846173687.py:5: SettingWithCopyWarning: \n",
      "A value is trying to be set on a copy of a slice from a DataFrame\n",
      "\n",
      "See the caveats in the documentation: https://pandas.pydata.org/pandas-docs/stable/user_guide/indexing.html#returning-a-view-versus-a-copy\n",
      "  uriage_data[\"item_price\"].loc[(fig_is_null) & (uriage_data[\"item_name\"] == trg)] = price\n",
      "/var/folders/r4/h5tmjmlj1wj54cmxzmf66mw40000gn/T/ipykernel_66653/1846173687.py:5: SettingWithCopyWarning: \n",
      "A value is trying to be set on a copy of a slice from a DataFrame\n",
      "\n",
      "See the caveats in the documentation: https://pandas.pydata.org/pandas-docs/stable/user_guide/indexing.html#returning-a-view-versus-a-copy\n",
      "  uriage_data[\"item_price\"].loc[(fig_is_null) & (uriage_data[\"item_name\"] == trg)] = price\n",
      "/var/folders/r4/h5tmjmlj1wj54cmxzmf66mw40000gn/T/ipykernel_66653/1846173687.py:5: SettingWithCopyWarning: \n",
      "A value is trying to be set on a copy of a slice from a DataFrame\n",
      "\n",
      "See the caveats in the documentation: https://pandas.pydata.org/pandas-docs/stable/user_guide/indexing.html#returning-a-view-versus-a-copy\n",
      "  uriage_data[\"item_price\"].loc[(fig_is_null) & (uriage_data[\"item_name\"] == trg)] = price\n",
      "/var/folders/r4/h5tmjmlj1wj54cmxzmf66mw40000gn/T/ipykernel_66653/1846173687.py:5: SettingWithCopyWarning: \n",
      "A value is trying to be set on a copy of a slice from a DataFrame\n",
      "\n",
      "See the caveats in the documentation: https://pandas.pydata.org/pandas-docs/stable/user_guide/indexing.html#returning-a-view-versus-a-copy\n",
      "  uriage_data[\"item_price\"].loc[(fig_is_null) & (uriage_data[\"item_name\"] == trg)] = price\n",
      "/var/folders/r4/h5tmjmlj1wj54cmxzmf66mw40000gn/T/ipykernel_66653/1846173687.py:5: SettingWithCopyWarning: \n",
      "A value is trying to be set on a copy of a slice from a DataFrame\n",
      "\n",
      "See the caveats in the documentation: https://pandas.pydata.org/pandas-docs/stable/user_guide/indexing.html#returning-a-view-versus-a-copy\n",
      "  uriage_data[\"item_price\"].loc[(fig_is_null) & (uriage_data[\"item_name\"] == trg)] = price\n",
      "/var/folders/r4/h5tmjmlj1wj54cmxzmf66mw40000gn/T/ipykernel_66653/1846173687.py:5: SettingWithCopyWarning: \n",
      "A value is trying to be set on a copy of a slice from a DataFrame\n",
      "\n",
      "See the caveats in the documentation: https://pandas.pydata.org/pandas-docs/stable/user_guide/indexing.html#returning-a-view-versus-a-copy\n",
      "  uriage_data[\"item_price\"].loc[(fig_is_null) & (uriage_data[\"item_name\"] == trg)] = price\n",
      "/var/folders/r4/h5tmjmlj1wj54cmxzmf66mw40000gn/T/ipykernel_66653/1846173687.py:5: SettingWithCopyWarning: \n",
      "A value is trying to be set on a copy of a slice from a DataFrame\n",
      "\n",
      "See the caveats in the documentation: https://pandas.pydata.org/pandas-docs/stable/user_guide/indexing.html#returning-a-view-versus-a-copy\n",
      "  uriage_data[\"item_price\"].loc[(fig_is_null) & (uriage_data[\"item_name\"] == trg)] = price\n",
      "/var/folders/r4/h5tmjmlj1wj54cmxzmf66mw40000gn/T/ipykernel_66653/1846173687.py:5: SettingWithCopyWarning: \n",
      "A value is trying to be set on a copy of a slice from a DataFrame\n",
      "\n",
      "See the caveats in the documentation: https://pandas.pydata.org/pandas-docs/stable/user_guide/indexing.html#returning-a-view-versus-a-copy\n",
      "  uriage_data[\"item_price\"].loc[(fig_is_null) & (uriage_data[\"item_name\"] == trg)] = price\n",
      "/var/folders/r4/h5tmjmlj1wj54cmxzmf66mw40000gn/T/ipykernel_66653/1846173687.py:5: SettingWithCopyWarning: \n",
      "A value is trying to be set on a copy of a slice from a DataFrame\n",
      "\n",
      "See the caveats in the documentation: https://pandas.pydata.org/pandas-docs/stable/user_guide/indexing.html#returning-a-view-versus-a-copy\n",
      "  uriage_data[\"item_price\"].loc[(fig_is_null) & (uriage_data[\"item_name\"] == trg)] = price\n",
      "/var/folders/r4/h5tmjmlj1wj54cmxzmf66mw40000gn/T/ipykernel_66653/1846173687.py:5: SettingWithCopyWarning: \n",
      "A value is trying to be set on a copy of a slice from a DataFrame\n",
      "\n",
      "See the caveats in the documentation: https://pandas.pydata.org/pandas-docs/stable/user_guide/indexing.html#returning-a-view-versus-a-copy\n",
      "  uriage_data[\"item_price\"].loc[(fig_is_null) & (uriage_data[\"item_name\"] == trg)] = price\n",
      "/var/folders/r4/h5tmjmlj1wj54cmxzmf66mw40000gn/T/ipykernel_66653/1846173687.py:5: SettingWithCopyWarning: \n",
      "A value is trying to be set on a copy of a slice from a DataFrame\n",
      "\n",
      "See the caveats in the documentation: https://pandas.pydata.org/pandas-docs/stable/user_guide/indexing.html#returning-a-view-versus-a-copy\n",
      "  uriage_data[\"item_price\"].loc[(fig_is_null) & (uriage_data[\"item_name\"] == trg)] = price\n",
      "/var/folders/r4/h5tmjmlj1wj54cmxzmf66mw40000gn/T/ipykernel_66653/1846173687.py:5: SettingWithCopyWarning: \n",
      "A value is trying to be set on a copy of a slice from a DataFrame\n",
      "\n",
      "See the caveats in the documentation: https://pandas.pydata.org/pandas-docs/stable/user_guide/indexing.html#returning-a-view-versus-a-copy\n",
      "  uriage_data[\"item_price\"].loc[(fig_is_null) & (uriage_data[\"item_name\"] == trg)] = price\n",
      "/var/folders/r4/h5tmjmlj1wj54cmxzmf66mw40000gn/T/ipykernel_66653/1846173687.py:5: SettingWithCopyWarning: \n",
      "A value is trying to be set on a copy of a slice from a DataFrame\n",
      "\n",
      "See the caveats in the documentation: https://pandas.pydata.org/pandas-docs/stable/user_guide/indexing.html#returning-a-view-versus-a-copy\n",
      "  uriage_data[\"item_price\"].loc[(fig_is_null) & (uriage_data[\"item_name\"] == trg)] = price\n",
      "/var/folders/r4/h5tmjmlj1wj54cmxzmf66mw40000gn/T/ipykernel_66653/1846173687.py:5: SettingWithCopyWarning: \n",
      "A value is trying to be set on a copy of a slice from a DataFrame\n",
      "\n",
      "See the caveats in the documentation: https://pandas.pydata.org/pandas-docs/stable/user_guide/indexing.html#returning-a-view-versus-a-copy\n",
      "  uriage_data[\"item_price\"].loc[(fig_is_null) & (uriage_data[\"item_name\"] == trg)] = price\n",
      "/var/folders/r4/h5tmjmlj1wj54cmxzmf66mw40000gn/T/ipykernel_66653/1846173687.py:5: SettingWithCopyWarning: \n",
      "A value is trying to be set on a copy of a slice from a DataFrame\n",
      "\n",
      "See the caveats in the documentation: https://pandas.pydata.org/pandas-docs/stable/user_guide/indexing.html#returning-a-view-versus-a-copy\n",
      "  uriage_data[\"item_price\"].loc[(fig_is_null) & (uriage_data[\"item_name\"] == trg)] = price\n",
      "/var/folders/r4/h5tmjmlj1wj54cmxzmf66mw40000gn/T/ipykernel_66653/1846173687.py:5: SettingWithCopyWarning: \n",
      "A value is trying to be set on a copy of a slice from a DataFrame\n",
      "\n",
      "See the caveats in the documentation: https://pandas.pydata.org/pandas-docs/stable/user_guide/indexing.html#returning-a-view-versus-a-copy\n",
      "  uriage_data[\"item_price\"].loc[(fig_is_null) & (uriage_data[\"item_name\"] == trg)] = price\n",
      "/var/folders/r4/h5tmjmlj1wj54cmxzmf66mw40000gn/T/ipykernel_66653/1846173687.py:5: SettingWithCopyWarning: \n",
      "A value is trying to be set on a copy of a slice from a DataFrame\n",
      "\n",
      "See the caveats in the documentation: https://pandas.pydata.org/pandas-docs/stable/user_guide/indexing.html#returning-a-view-versus-a-copy\n",
      "  uriage_data[\"item_price\"].loc[(fig_is_null) & (uriage_data[\"item_name\"] == trg)] = price\n"
     ]
    },
    {
     "data": {
      "text/plain": "        purchase_date item_name  item_price customer_name purchase_month\n0 2019-06-13 18:02:00       상품A       100.0           김가온         201906\n1 2019-07-13 13:05:00       상품S      1900.0           김우찬         201907\n2 2019-05-11 19:42:00       상품A       100.0           김유찬         201905\n3 2019-02-12 23:40:00       상품Z      2600.0           김재현         201902\n4 2019-04-22 03:09:00       상품A       100.0           김강현         201904",
      "text/html": "<div>\n<style scoped>\n    .dataframe tbody tr th:only-of-type {\n        vertical-align: middle;\n    }\n\n    .dataframe tbody tr th {\n        vertical-align: top;\n    }\n\n    .dataframe thead th {\n        text-align: right;\n    }\n</style>\n<table border=\"1\" class=\"dataframe\">\n  <thead>\n    <tr style=\"text-align: right;\">\n      <th></th>\n      <th>purchase_date</th>\n      <th>item_name</th>\n      <th>item_price</th>\n      <th>customer_name</th>\n      <th>purchase_month</th>\n    </tr>\n  </thead>\n  <tbody>\n    <tr>\n      <th>0</th>\n      <td>2019-06-13 18:02:00</td>\n      <td>상품A</td>\n      <td>100.0</td>\n      <td>김가온</td>\n      <td>201906</td>\n    </tr>\n    <tr>\n      <th>1</th>\n      <td>2019-07-13 13:05:00</td>\n      <td>상품S</td>\n      <td>1900.0</td>\n      <td>김우찬</td>\n      <td>201907</td>\n    </tr>\n    <tr>\n      <th>2</th>\n      <td>2019-05-11 19:42:00</td>\n      <td>상품A</td>\n      <td>100.0</td>\n      <td>김유찬</td>\n      <td>201905</td>\n    </tr>\n    <tr>\n      <th>3</th>\n      <td>2019-02-12 23:40:00</td>\n      <td>상품Z</td>\n      <td>2600.0</td>\n      <td>김재현</td>\n      <td>201902</td>\n    </tr>\n    <tr>\n      <th>4</th>\n      <td>2019-04-22 03:09:00</td>\n      <td>상품A</td>\n      <td>100.0</td>\n      <td>김강현</td>\n      <td>201904</td>\n    </tr>\n  </tbody>\n</table>\n</div>"
     },
     "execution_count": 19,
     "metadata": {},
     "output_type": "execute_result"
    }
   ],
   "source": [
    "for trg in list(uriage_data.loc[fig_is_null,\"item_name\"].unique()) :\n",
    "    # 결측지가 존재하는 상품명을 중복을 없애고(unique) 추출\n",
    "    price = uriage_data.loc[(~fig_is_null) & (uriage_data[\"item_name\"] == trg), \"item_price\"].max()\n",
    "    # 금액이 옳바르게 입력된 행을 찾고 금액을 가져옴. 결손치가 없는 상품의 금액을 가져온다.\n",
    "    uriage_data[\"item_price\"].loc[(fig_is_null) & (uriage_data[\"item_name\"] == trg)] = price\n",
    "\n",
    "uriage_data.head()"
   ],
   "metadata": {
    "collapsed": false,
    "ExecuteTime": {
     "end_time": "2024-02-19T12:18:10.248701Z",
     "start_time": "2024-02-19T12:18:10.057495Z"
    }
   },
   "id": "95b883b3ced41f49",
   "execution_count": 19
  },
  {
   "cell_type": "code",
   "outputs": [
    {
     "data": {
      "text/plain": "purchase_date     False\nitem_name         False\nitem_price        False\ncustomer_name     False\npurchase_month    False\ndtype: bool"
     },
     "execution_count": 20,
     "metadata": {},
     "output_type": "execute_result"
    }
   ],
   "source": [
    "uriage_data.isnull().any()"
   ],
   "metadata": {
    "collapsed": false,
    "ExecuteTime": {
     "end_time": "2024-02-19T12:18:10.249201Z",
     "start_time": "2024-02-19T12:18:10.089744Z"
    }
   },
   "id": "7b4d8824c04d85c7",
   "execution_count": 20
  },
  {
   "cell_type": "code",
   "outputs": [
    {
     "name": "stdout",
     "output_type": "stream",
     "text": [
      "상품A의 최고가100.0상품A의 최저가100.0\n",
      "상품B의 최고가200.0상품B의 최저가200.0\n",
      "상품C의 최고가300.0상품C의 최저가300.0\n",
      "상품D의 최고가400.0상품D의 최저가400.0\n",
      "상품E의 최고가500.0상품E의 최저가500.0\n",
      "상품F의 최고가600.0상품F의 최저가600.0\n",
      "상품G의 최고가700.0상품G의 최저가700.0\n",
      "상품H의 최고가800.0상품H의 최저가800.0\n",
      "상품I의 최고가900.0상품I의 최저가900.0\n",
      "상품J의 최고가1000.0상품J의 최저가1000.0\n",
      "상품K의 최고가1100.0상품K의 최저가1100.0\n",
      "상품L의 최고가1200.0상품L의 최저가1200.0\n",
      "상품M의 최고가1300.0상품M의 최저가1300.0\n",
      "상품N의 최고가1400.0상품N의 최저가1400.0\n",
      "상품O의 최고가1500.0상품O의 최저가1500.0\n",
      "상품P의 최고가1600.0상품P의 최저가1600.0\n",
      "상품Q의 최고가1700.0상품Q의 최저가1700.0\n",
      "상품R의 최고가1800.0상품R의 최저가1800.0\n",
      "상품S의 최고가1900.0상품S의 최저가1900.0\n",
      "상품T의 최고가2000.0상품T의 최저가2000.0\n",
      "상품U의 최고가2100.0상품U의 최저가2100.0\n",
      "상품V의 최고가2200.0상품V의 최저가2200.0\n",
      "상품W의 최고가2300.0상품W의 최저가2300.0\n",
      "상품X의 최고가2400.0상품X의 최저가2400.0\n",
      "상품Y의 최고가2500.0상품Y의 최저가2500.0\n",
      "상품Z의 최고가2600.0상품Z의 최저가2600.0\n"
     ]
    }
   ],
   "source": [
    "for trg in list(uriage_data[\"item_name\"].sort_values().unique()) :\n",
    "    print(trg+\"의 최고가\" + str(uriage_data.loc[uriage_data[\"item_name\"] == trg][\"item_price\"].max()) + trg + \"의 최저가\" + str(uriage_data.loc[uriage_data[\"item_name\"] == trg][\"item_price\"].min(skipna = False)))\n",
    "    \n",
    "# skipna 가 False이므로 nan이 있는경우 최소값은 nan"
   ],
   "metadata": {
    "collapsed": false,
    "ExecuteTime": {
     "end_time": "2024-02-19T12:18:10.250412Z",
     "start_time": "2024-02-19T12:18:10.096999Z"
    }
   },
   "id": "a362e4e14fe8d327",
   "execution_count": 21
  },
  {
   "cell_type": "code",
   "outputs": [
    {
     "data": {
      "text/plain": "0    김 현성\n1    김 도윤\n2    김 지한\n3    김 하윤\n4    김 시온\nName: 고객이름, dtype: object"
     },
     "execution_count": 22,
     "metadata": {},
     "output_type": "execute_result"
    }
   ],
   "source": [
    "kokyaku_data[\"고객이름\"].head()"
   ],
   "metadata": {
    "collapsed": false,
    "ExecuteTime": {
     "end_time": "2024-02-19T12:18:10.250727Z",
     "start_time": "2024-02-19T12:18:10.121335Z"
    }
   },
   "id": "714964cf6821e6f7",
   "execution_count": 22
  },
  {
   "cell_type": "code",
   "outputs": [
    {
     "data": {
      "text/plain": "0    김가온\n1    김우찬\n2    김유찬\n3    김재현\n4    김강현\nName: customer_name, dtype: object"
     },
     "execution_count": 23,
     "metadata": {},
     "output_type": "execute_result"
    }
   ],
   "source": [
    "uriage_data[\"customer_name\"].head()"
   ],
   "metadata": {
    "collapsed": false,
    "ExecuteTime": {
     "end_time": "2024-02-19T12:18:10.251030Z",
     "start_time": "2024-02-19T12:18:10.126532Z"
    }
   },
   "id": "de88f9790683a498",
   "execution_count": 23
  },
  {
   "cell_type": "code",
   "outputs": [
    {
     "data": {
      "text/plain": "0    김현성\n1    김도윤\n2    김지한\n3    김하윤\n4    김시온\nName: 고객이름, dtype: object"
     },
     "execution_count": 24,
     "metadata": {},
     "output_type": "execute_result"
    }
   ],
   "source": [
    "kokyaku_data[\"고객이름\"] = kokyaku_data[\"고객이름\"].str.replace(\" \",\"\")\n",
    "kokyaku_data[\"고객이름\"] = kokyaku_data[\"고객이름\"].str.replace(\" \",\"\")\n",
    "\n",
    "kokyaku_data[\"고객이름\"].head()"
   ],
   "metadata": {
    "collapsed": false,
    "ExecuteTime": {
     "end_time": "2024-02-19T12:18:10.251338Z",
     "start_time": "2024-02-19T12:18:10.133208Z"
    }
   },
   "id": "f139cf08eacfc95c",
   "execution_count": 24
  },
  {
   "cell_type": "code",
   "outputs": [
    {
     "data": {
      "text/plain": "22"
     },
     "execution_count": 25,
     "metadata": {},
     "output_type": "execute_result"
    }
   ],
   "source": [
    "# astype : pandas type 변경\n",
    "\n",
    "fig_is_serial = kokyaku_data[\"등록일\"].astype(\"str\").str.isdigit()\n",
    "fig_is_serial.sum()"
   ],
   "metadata": {
    "collapsed": false,
    "ExecuteTime": {
     "end_time": "2024-02-19T12:18:10.251644Z",
     "start_time": "2024-02-19T12:18:10.139696Z"
    }
   },
   "id": "b2013addeee647be",
   "execution_count": 25
  },
  {
   "cell_type": "code",
   "outputs": [
    {
     "data": {
      "text/plain": "1     2017-02-18\n3     2017-05-19\n4     2018-01-29\n21    2017-07-06\n27    2017-06-17\n47    2017-01-08\n49    2017-07-15\n53    2017-04-10\n76    2018-03-31\n80    2018-01-12\n99    2017-06-01\n114   2018-06-05\n118   2018-01-31\n122   2018-04-18\n139   2017-05-27\n143   2017-03-26\n155   2017-01-21\n172   2018-03-24\n179   2017-01-10\n183   2017-07-26\n186   2018-07-15\n192   2018-06-10\nName: 등록일, dtype: datetime64[ns]"
     },
     "execution_count": 26,
     "metadata": {},
     "output_type": "execute_result"
    }
   ],
   "source": [
    "fromSerial = pd.to_timedelta(kokyaku_data.loc[fig_is_serial,\"등록일\"].astype(\"float\"),unit=\"D\") + pd.to_datetime(\"1900/01/01\")\n",
    "fromSerial"
   ],
   "metadata": {
    "collapsed": false,
    "ExecuteTime": {
     "end_time": "2024-02-19T12:22:18.010849Z",
     "start_time": "2024-02-19T12:22:18.007041Z"
    }
   },
   "id": "30212dea3d31dc0b",
   "execution_count": 26
  },
  {
   "cell_type": "code",
   "outputs": [
    {
     "data": {
      "text/plain": "0     2018-01-04\n2     2018-01-07\n5     2017-06-20\n6     2018-06-11\n7     2017-05-19\n         ...    \n195   2017-06-20\n196   2018-06-20\n197   2017-04-29\n198   2019-04-19\n199   2019-04-23\nName: 등록일, Length: 178, dtype: datetime64[ns]"
     },
     "execution_count": 27,
     "metadata": {},
     "output_type": "execute_result"
    }
   ],
   "source": [
    "fromString = pd.to_datetime(kokyaku_data.loc[~fig_is_serial,\"등록일\"])\n",
    "fromString"
   ],
   "metadata": {
    "collapsed": false,
    "ExecuteTime": {
     "end_time": "2024-02-19T12:28:45.001911Z",
     "start_time": "2024-02-19T12:28:44.997686Z"
    }
   },
   "id": "a7884e0d6848645d",
   "execution_count": 27
  },
  {
   "cell_type": "code",
   "outputs": [
    {
     "data": {
      "text/plain": "    고객이름  지역        등록일\n0    김현성  H시 2018-01-04\n1    김도윤  E시 2017-02-18\n2    김지한  A시 2018-01-07\n3    김하윤  F시 2017-05-19\n4    김시온  E시 2018-01-29\n..   ...  ..        ...\n195  김재희  G시 2017-06-20\n196  김도영  E시 2018-06-20\n197  김이안  F시 2017-04-29\n198  김시현  H시 2019-04-19\n199  김서우  D시 2019-04-23\n\n[200 rows x 3 columns]",
      "text/html": "<div>\n<style scoped>\n    .dataframe tbody tr th:only-of-type {\n        vertical-align: middle;\n    }\n\n    .dataframe tbody tr th {\n        vertical-align: top;\n    }\n\n    .dataframe thead th {\n        text-align: right;\n    }\n</style>\n<table border=\"1\" class=\"dataframe\">\n  <thead>\n    <tr style=\"text-align: right;\">\n      <th></th>\n      <th>고객이름</th>\n      <th>지역</th>\n      <th>등록일</th>\n    </tr>\n  </thead>\n  <tbody>\n    <tr>\n      <th>0</th>\n      <td>김현성</td>\n      <td>H시</td>\n      <td>2018-01-04</td>\n    </tr>\n    <tr>\n      <th>1</th>\n      <td>김도윤</td>\n      <td>E시</td>\n      <td>2017-02-18</td>\n    </tr>\n    <tr>\n      <th>2</th>\n      <td>김지한</td>\n      <td>A시</td>\n      <td>2018-01-07</td>\n    </tr>\n    <tr>\n      <th>3</th>\n      <td>김하윤</td>\n      <td>F시</td>\n      <td>2017-05-19</td>\n    </tr>\n    <tr>\n      <th>4</th>\n      <td>김시온</td>\n      <td>E시</td>\n      <td>2018-01-29</td>\n    </tr>\n    <tr>\n      <th>...</th>\n      <td>...</td>\n      <td>...</td>\n      <td>...</td>\n    </tr>\n    <tr>\n      <th>195</th>\n      <td>김재희</td>\n      <td>G시</td>\n      <td>2017-06-20</td>\n    </tr>\n    <tr>\n      <th>196</th>\n      <td>김도영</td>\n      <td>E시</td>\n      <td>2018-06-20</td>\n    </tr>\n    <tr>\n      <th>197</th>\n      <td>김이안</td>\n      <td>F시</td>\n      <td>2017-04-29</td>\n    </tr>\n    <tr>\n      <th>198</th>\n      <td>김시현</td>\n      <td>H시</td>\n      <td>2019-04-19</td>\n    </tr>\n    <tr>\n      <th>199</th>\n      <td>김서우</td>\n      <td>D시</td>\n      <td>2019-04-23</td>\n    </tr>\n  </tbody>\n</table>\n<p>200 rows × 3 columns</p>\n</div>"
     },
     "execution_count": 28,
     "metadata": {},
     "output_type": "execute_result"
    }
   ],
   "source": [
    "kokyaku_data[\"등록일\"] = pd.concat([fromSerial, fromString])\n",
    "kokyaku_data"
   ],
   "metadata": {
    "collapsed": false,
    "ExecuteTime": {
     "end_time": "2024-02-19T12:30:28.341136Z",
     "start_time": "2024-02-19T12:30:28.329626Z"
    }
   },
   "id": "a69236fc39805266",
   "execution_count": 28
  },
  {
   "cell_type": "code",
   "outputs": [
    {
     "name": "stdout",
     "output_type": "stream",
     "text": [
      "등록연월\n",
      "201701    15\n",
      "201702    11\n",
      "201703    14\n",
      "201704    15\n",
      "201705    13\n",
      "201706    14\n",
      "201707    17\n",
      "201801    13\n",
      "201802    15\n",
      "201803    17\n",
      "201804     5\n",
      "201805    19\n",
      "201806    13\n",
      "201807    17\n",
      "201904     2\n",
      "Name: 고객이름, dtype: int64\n",
      "200\n"
     ]
    }
   ],
   "source": [
    "kokyaku_data[\"등록연월\"] = kokyaku_data[\"등록일\"].dt.strftime(\"%Y%m\")\n",
    "rslt = kokyaku_data.groupby(\"등록연월\").count()[\"고객이름\"]\n",
    "print(rslt)\n",
    "print(len(kokyaku_data))\n"
   ],
   "metadata": {
    "collapsed": false,
    "ExecuteTime": {
     "end_time": "2024-02-19T12:33:40.809199Z",
     "start_time": "2024-02-19T12:33:40.804680Z"
    }
   },
   "id": "3d01d399bae7d1e9",
   "execution_count": 32
  },
  {
   "cell_type": "code",
   "outputs": [
    {
     "data": {
      "text/plain": "0"
     },
     "execution_count": 33,
     "metadata": {},
     "output_type": "execute_result"
    }
   ],
   "source": [
    "fig_is_serial = kokyaku_data[\"등록일\"].astype(\"str\").str.isdigit()\n",
    "fig_is_serial.sum()"
   ],
   "metadata": {
    "collapsed": false,
    "ExecuteTime": {
     "end_time": "2024-02-19T12:36:11.174498Z",
     "start_time": "2024-02-19T12:36:11.151550Z"
    }
   },
   "id": "865621d41e326696",
   "execution_count": 33
  },
  {
   "cell_type": "code",
   "outputs": [
    {
     "data": {
      "text/plain": "           purchase_date item_name  item_price purchase_month 고객이름  지역  \\\n0    2019-06-13 18:02:00       상품A       100.0         201906  김가온  C시   \n1    2019-07-13 13:05:00       상품S      1900.0         201907  김우찬  C시   \n2    2019-05-11 19:42:00       상품A       100.0         201905  김유찬  A시   \n3    2019-02-12 23:40:00       상품Z      2600.0         201902  김재현  D시   \n4    2019-04-22 03:09:00       상품A       100.0         201904  김강현  D시   \n...                  ...       ...         ...            ...  ...  ..   \n2994 2019-02-15 02:56:00       상품Y      2500.0         201902  김정민  B시   \n2995 2019-06-22 04:03:00       상품M      1300.0         201906  김재원  E시   \n2996 2019-03-29 11:14:00       상품Q      1700.0         201903  김지율  B시   \n2997 2019-07-14 12:56:00       상품H       800.0         201907  김승주  E시   \n2998 2019-07-21 00:31:00       상품D       400.0         201907  정준기  B시   \n\n            등록일    등록연월  \n0    2017-01-26  201701  \n1    2018-04-07  201804  \n2    2018-06-19  201806  \n3    2018-07-22  201807  \n4    2017-06-07  201706  \n...         ...     ...  \n2994 2017-07-01  201707  \n2995 2018-03-31  201803  \n2996 2017-03-15  201703  \n2997 2018-07-15  201807  \n2998 2017-02-05  201702  \n\n[2999 rows x 8 columns]",
      "text/html": "<div>\n<style scoped>\n    .dataframe tbody tr th:only-of-type {\n        vertical-align: middle;\n    }\n\n    .dataframe tbody tr th {\n        vertical-align: top;\n    }\n\n    .dataframe thead th {\n        text-align: right;\n    }\n</style>\n<table border=\"1\" class=\"dataframe\">\n  <thead>\n    <tr style=\"text-align: right;\">\n      <th></th>\n      <th>purchase_date</th>\n      <th>item_name</th>\n      <th>item_price</th>\n      <th>purchase_month</th>\n      <th>고객이름</th>\n      <th>지역</th>\n      <th>등록일</th>\n      <th>등록연월</th>\n    </tr>\n  </thead>\n  <tbody>\n    <tr>\n      <th>0</th>\n      <td>2019-06-13 18:02:00</td>\n      <td>상품A</td>\n      <td>100.0</td>\n      <td>201906</td>\n      <td>김가온</td>\n      <td>C시</td>\n      <td>2017-01-26</td>\n      <td>201701</td>\n    </tr>\n    <tr>\n      <th>1</th>\n      <td>2019-07-13 13:05:00</td>\n      <td>상품S</td>\n      <td>1900.0</td>\n      <td>201907</td>\n      <td>김우찬</td>\n      <td>C시</td>\n      <td>2018-04-07</td>\n      <td>201804</td>\n    </tr>\n    <tr>\n      <th>2</th>\n      <td>2019-05-11 19:42:00</td>\n      <td>상품A</td>\n      <td>100.0</td>\n      <td>201905</td>\n      <td>김유찬</td>\n      <td>A시</td>\n      <td>2018-06-19</td>\n      <td>201806</td>\n    </tr>\n    <tr>\n      <th>3</th>\n      <td>2019-02-12 23:40:00</td>\n      <td>상품Z</td>\n      <td>2600.0</td>\n      <td>201902</td>\n      <td>김재현</td>\n      <td>D시</td>\n      <td>2018-07-22</td>\n      <td>201807</td>\n    </tr>\n    <tr>\n      <th>4</th>\n      <td>2019-04-22 03:09:00</td>\n      <td>상품A</td>\n      <td>100.0</td>\n      <td>201904</td>\n      <td>김강현</td>\n      <td>D시</td>\n      <td>2017-06-07</td>\n      <td>201706</td>\n    </tr>\n    <tr>\n      <th>...</th>\n      <td>...</td>\n      <td>...</td>\n      <td>...</td>\n      <td>...</td>\n      <td>...</td>\n      <td>...</td>\n      <td>...</td>\n      <td>...</td>\n    </tr>\n    <tr>\n      <th>2994</th>\n      <td>2019-02-15 02:56:00</td>\n      <td>상품Y</td>\n      <td>2500.0</td>\n      <td>201902</td>\n      <td>김정민</td>\n      <td>B시</td>\n      <td>2017-07-01</td>\n      <td>201707</td>\n    </tr>\n    <tr>\n      <th>2995</th>\n      <td>2019-06-22 04:03:00</td>\n      <td>상품M</td>\n      <td>1300.0</td>\n      <td>201906</td>\n      <td>김재원</td>\n      <td>E시</td>\n      <td>2018-03-31</td>\n      <td>201803</td>\n    </tr>\n    <tr>\n      <th>2996</th>\n      <td>2019-03-29 11:14:00</td>\n      <td>상품Q</td>\n      <td>1700.0</td>\n      <td>201903</td>\n      <td>김지율</td>\n      <td>B시</td>\n      <td>2017-03-15</td>\n      <td>201703</td>\n    </tr>\n    <tr>\n      <th>2997</th>\n      <td>2019-07-14 12:56:00</td>\n      <td>상품H</td>\n      <td>800.0</td>\n      <td>201907</td>\n      <td>김승주</td>\n      <td>E시</td>\n      <td>2018-07-15</td>\n      <td>201807</td>\n    </tr>\n    <tr>\n      <th>2998</th>\n      <td>2019-07-21 00:31:00</td>\n      <td>상품D</td>\n      <td>400.0</td>\n      <td>201907</td>\n      <td>정준기</td>\n      <td>B시</td>\n      <td>2017-02-05</td>\n      <td>201702</td>\n    </tr>\n  </tbody>\n</table>\n<p>2999 rows × 8 columns</p>\n</div>"
     },
     "execution_count": 34,
     "metadata": {},
     "output_type": "execute_result"
    }
   ],
   "source": [
    "join_data = pd.merge(uriage_data, kokyaku_data, left_on=\"customer_name\", right_on=\"고객이름\",how = \"left\")\n",
    "join_data = join_data.drop(\"customer_name\", axis=1)\n",
    "join_data"
   ],
   "metadata": {
    "collapsed": false,
    "ExecuteTime": {
     "end_time": "2024-02-19T12:38:53.323165Z",
     "start_time": "2024-02-19T12:38:53.308678Z"
    }
   },
   "id": "5bf066c76018a11f",
   "execution_count": 34
  },
  {
   "cell_type": "code",
   "outputs": [
    {
     "data": {
      "text/plain": "           purchase_date purchase_month item_name  item_price 고객이름  지역  \\\n0    2019-06-13 18:02:00         201906       상품A       100.0  김가온  C시   \n1    2019-07-13 13:05:00         201907       상품S      1900.0  김우찬  C시   \n2    2019-05-11 19:42:00         201905       상품A       100.0  김유찬  A시   \n3    2019-02-12 23:40:00         201902       상품Z      2600.0  김재현  D시   \n4    2019-04-22 03:09:00         201904       상품A       100.0  김강현  D시   \n...                  ...            ...       ...         ...  ...  ..   \n2994 2019-02-15 02:56:00         201902       상품Y      2500.0  김정민  B시   \n2995 2019-06-22 04:03:00         201906       상품M      1300.0  김재원  E시   \n2996 2019-03-29 11:14:00         201903       상품Q      1700.0  김지율  B시   \n2997 2019-07-14 12:56:00         201907       상품H       800.0  김승주  E시   \n2998 2019-07-21 00:31:00         201907       상품D       400.0  정준기  B시   \n\n            등록일  \n0    2017-01-26  \n1    2018-04-07  \n2    2018-06-19  \n3    2018-07-22  \n4    2017-06-07  \n...         ...  \n2994 2017-07-01  \n2995 2018-03-31  \n2996 2017-03-15  \n2997 2018-07-15  \n2998 2017-02-05  \n\n[2999 rows x 7 columns]",
      "text/html": "<div>\n<style scoped>\n    .dataframe tbody tr th:only-of-type {\n        vertical-align: middle;\n    }\n\n    .dataframe tbody tr th {\n        vertical-align: top;\n    }\n\n    .dataframe thead th {\n        text-align: right;\n    }\n</style>\n<table border=\"1\" class=\"dataframe\">\n  <thead>\n    <tr style=\"text-align: right;\">\n      <th></th>\n      <th>purchase_date</th>\n      <th>purchase_month</th>\n      <th>item_name</th>\n      <th>item_price</th>\n      <th>고객이름</th>\n      <th>지역</th>\n      <th>등록일</th>\n    </tr>\n  </thead>\n  <tbody>\n    <tr>\n      <th>0</th>\n      <td>2019-06-13 18:02:00</td>\n      <td>201906</td>\n      <td>상품A</td>\n      <td>100.0</td>\n      <td>김가온</td>\n      <td>C시</td>\n      <td>2017-01-26</td>\n    </tr>\n    <tr>\n      <th>1</th>\n      <td>2019-07-13 13:05:00</td>\n      <td>201907</td>\n      <td>상품S</td>\n      <td>1900.0</td>\n      <td>김우찬</td>\n      <td>C시</td>\n      <td>2018-04-07</td>\n    </tr>\n    <tr>\n      <th>2</th>\n      <td>2019-05-11 19:42:00</td>\n      <td>201905</td>\n      <td>상품A</td>\n      <td>100.0</td>\n      <td>김유찬</td>\n      <td>A시</td>\n      <td>2018-06-19</td>\n    </tr>\n    <tr>\n      <th>3</th>\n      <td>2019-02-12 23:40:00</td>\n      <td>201902</td>\n      <td>상품Z</td>\n      <td>2600.0</td>\n      <td>김재현</td>\n      <td>D시</td>\n      <td>2018-07-22</td>\n    </tr>\n    <tr>\n      <th>4</th>\n      <td>2019-04-22 03:09:00</td>\n      <td>201904</td>\n      <td>상품A</td>\n      <td>100.0</td>\n      <td>김강현</td>\n      <td>D시</td>\n      <td>2017-06-07</td>\n    </tr>\n    <tr>\n      <th>...</th>\n      <td>...</td>\n      <td>...</td>\n      <td>...</td>\n      <td>...</td>\n      <td>...</td>\n      <td>...</td>\n      <td>...</td>\n    </tr>\n    <tr>\n      <th>2994</th>\n      <td>2019-02-15 02:56:00</td>\n      <td>201902</td>\n      <td>상품Y</td>\n      <td>2500.0</td>\n      <td>김정민</td>\n      <td>B시</td>\n      <td>2017-07-01</td>\n    </tr>\n    <tr>\n      <th>2995</th>\n      <td>2019-06-22 04:03:00</td>\n      <td>201906</td>\n      <td>상품M</td>\n      <td>1300.0</td>\n      <td>김재원</td>\n      <td>E시</td>\n      <td>2018-03-31</td>\n    </tr>\n    <tr>\n      <th>2996</th>\n      <td>2019-03-29 11:14:00</td>\n      <td>201903</td>\n      <td>상품Q</td>\n      <td>1700.0</td>\n      <td>김지율</td>\n      <td>B시</td>\n      <td>2017-03-15</td>\n    </tr>\n    <tr>\n      <th>2997</th>\n      <td>2019-07-14 12:56:00</td>\n      <td>201907</td>\n      <td>상품H</td>\n      <td>800.0</td>\n      <td>김승주</td>\n      <td>E시</td>\n      <td>2018-07-15</td>\n    </tr>\n    <tr>\n      <th>2998</th>\n      <td>2019-07-21 00:31:00</td>\n      <td>201907</td>\n      <td>상품D</td>\n      <td>400.0</td>\n      <td>정준기</td>\n      <td>B시</td>\n      <td>2017-02-05</td>\n    </tr>\n  </tbody>\n</table>\n<p>2999 rows × 7 columns</p>\n</div>"
     },
     "execution_count": 35,
     "metadata": {},
     "output_type": "execute_result"
    }
   ],
   "source": [
    "dump_data = join_data[[\"purchase_date\",\"purchase_month\",\"item_name\",\"item_price\",\"고객이름\",\"지역\",\"등록일\"]]\n",
    "dump_data"
   ],
   "metadata": {
    "collapsed": false,
    "ExecuteTime": {
     "end_time": "2024-02-19T12:39:57.407115Z",
     "start_time": "2024-02-19T12:39:57.404431Z"
    }
   },
   "id": "c0199b6147924a56",
   "execution_count": 35
  },
  {
   "cell_type": "code",
   "outputs": [],
   "source": [
    "dump_data.to_csv(\"excelFiles/2장/dump_data.csv\",index=False)"
   ],
   "metadata": {
    "collapsed": false,
    "ExecuteTime": {
     "end_time": "2024-02-19T12:41:23.835333Z",
     "start_time": "2024-02-19T12:41:23.810590Z"
    }
   },
   "id": "1bf73d605642c6b9",
   "execution_count": 36
  },
  {
   "cell_type": "code",
   "outputs": [
    {
     "data": {
      "text/plain": "            purchase_date  purchase_month item_name  item_price 고객이름  지역  \\\n0     2019-06-13 18:02:00          201906       상품A       100.0  김가온  C시   \n1     2019-07-13 13:05:00          201907       상품S      1900.0  김우찬  C시   \n2     2019-05-11 19:42:00          201905       상품A       100.0  김유찬  A시   \n3     2019-02-12 23:40:00          201902       상품Z      2600.0  김재현  D시   \n4     2019-04-22 03:09:00          201904       상품A       100.0  김강현  D시   \n...                   ...             ...       ...         ...  ...  ..   \n2994  2019-02-15 02:56:00          201902       상품Y      2500.0  김정민  B시   \n2995  2019-06-22 04:03:00          201906       상품M      1300.0  김재원  E시   \n2996  2019-03-29 11:14:00          201903       상품Q      1700.0  김지율  B시   \n2997  2019-07-14 12:56:00          201907       상품H       800.0  김승주  E시   \n2998  2019-07-21 00:31:00          201907       상품D       400.0  정준기  B시   \n\n             등록일  \n0     2017-01-26  \n1     2018-04-07  \n2     2018-06-19  \n3     2018-07-22  \n4     2017-06-07  \n...          ...  \n2994  2017-07-01  \n2995  2018-03-31  \n2996  2017-03-15  \n2997  2018-07-15  \n2998  2017-02-05  \n\n[2999 rows x 7 columns]",
      "text/html": "<div>\n<style scoped>\n    .dataframe tbody tr th:only-of-type {\n        vertical-align: middle;\n    }\n\n    .dataframe tbody tr th {\n        vertical-align: top;\n    }\n\n    .dataframe thead th {\n        text-align: right;\n    }\n</style>\n<table border=\"1\" class=\"dataframe\">\n  <thead>\n    <tr style=\"text-align: right;\">\n      <th></th>\n      <th>purchase_date</th>\n      <th>purchase_month</th>\n      <th>item_name</th>\n      <th>item_price</th>\n      <th>고객이름</th>\n      <th>지역</th>\n      <th>등록일</th>\n    </tr>\n  </thead>\n  <tbody>\n    <tr>\n      <th>0</th>\n      <td>2019-06-13 18:02:00</td>\n      <td>201906</td>\n      <td>상품A</td>\n      <td>100.0</td>\n      <td>김가온</td>\n      <td>C시</td>\n      <td>2017-01-26</td>\n    </tr>\n    <tr>\n      <th>1</th>\n      <td>2019-07-13 13:05:00</td>\n      <td>201907</td>\n      <td>상품S</td>\n      <td>1900.0</td>\n      <td>김우찬</td>\n      <td>C시</td>\n      <td>2018-04-07</td>\n    </tr>\n    <tr>\n      <th>2</th>\n      <td>2019-05-11 19:42:00</td>\n      <td>201905</td>\n      <td>상품A</td>\n      <td>100.0</td>\n      <td>김유찬</td>\n      <td>A시</td>\n      <td>2018-06-19</td>\n    </tr>\n    <tr>\n      <th>3</th>\n      <td>2019-02-12 23:40:00</td>\n      <td>201902</td>\n      <td>상품Z</td>\n      <td>2600.0</td>\n      <td>김재현</td>\n      <td>D시</td>\n      <td>2018-07-22</td>\n    </tr>\n    <tr>\n      <th>4</th>\n      <td>2019-04-22 03:09:00</td>\n      <td>201904</td>\n      <td>상품A</td>\n      <td>100.0</td>\n      <td>김강현</td>\n      <td>D시</td>\n      <td>2017-06-07</td>\n    </tr>\n    <tr>\n      <th>...</th>\n      <td>...</td>\n      <td>...</td>\n      <td>...</td>\n      <td>...</td>\n      <td>...</td>\n      <td>...</td>\n      <td>...</td>\n    </tr>\n    <tr>\n      <th>2994</th>\n      <td>2019-02-15 02:56:00</td>\n      <td>201902</td>\n      <td>상품Y</td>\n      <td>2500.0</td>\n      <td>김정민</td>\n      <td>B시</td>\n      <td>2017-07-01</td>\n    </tr>\n    <tr>\n      <th>2995</th>\n      <td>2019-06-22 04:03:00</td>\n      <td>201906</td>\n      <td>상품M</td>\n      <td>1300.0</td>\n      <td>김재원</td>\n      <td>E시</td>\n      <td>2018-03-31</td>\n    </tr>\n    <tr>\n      <th>2996</th>\n      <td>2019-03-29 11:14:00</td>\n      <td>201903</td>\n      <td>상품Q</td>\n      <td>1700.0</td>\n      <td>김지율</td>\n      <td>B시</td>\n      <td>2017-03-15</td>\n    </tr>\n    <tr>\n      <th>2997</th>\n      <td>2019-07-14 12:56:00</td>\n      <td>201907</td>\n      <td>상품H</td>\n      <td>800.0</td>\n      <td>김승주</td>\n      <td>E시</td>\n      <td>2018-07-15</td>\n    </tr>\n    <tr>\n      <th>2998</th>\n      <td>2019-07-21 00:31:00</td>\n      <td>201907</td>\n      <td>상품D</td>\n      <td>400.0</td>\n      <td>정준기</td>\n      <td>B시</td>\n      <td>2017-02-05</td>\n    </tr>\n  </tbody>\n</table>\n<p>2999 rows × 7 columns</p>\n</div>"
     },
     "execution_count": 37,
     "metadata": {},
     "output_type": "execute_result"
    }
   ],
   "source": [
    "import_data = pd.read_csv(\"excelFiles/2장/dump_data.csv\")\n",
    "import_data"
   ],
   "metadata": {
    "collapsed": false,
    "ExecuteTime": {
     "end_time": "2024-02-19T12:43:05.320223Z",
     "start_time": "2024-02-19T12:43:05.299022Z"
    }
   },
   "id": "e4fe62e8c6adfa53",
   "execution_count": 37
  },
  {
   "cell_type": "code",
   "outputs": [
    {
     "data": {
      "text/plain": "item_name       상품A  상품B  상품C  상품D  상품E  상품F  상품G  상품H  상품I  상품J  ...  상품Q  \\\npurchase_month                                                    ...        \n201901           18   13   19   17   18   15   11   16   18   17  ...   17   \n201902           19   14   26   21   16   14   14   17   12   14  ...   22   \n201903           17   21   20   17    9   27   14   18   12   16  ...   23   \n201904           17   19   24   20   18   17   14   11   18   13  ...   20   \n201905           24   14   16   14   19   18   23   15   16   11  ...   13   \n201906           24   12   11   19   13   18   15   13   19   22  ...   15   \n201907           20   20   17   17   12   17   19   19   19   23  ...   15   \n\nitem_name       상품R  상품S  상품T  상품U  상품V  상품W  상품X  상품Y  상품Z  \npurchase_month                                               \n201901           21   20   17    7   22   13   14   10    0  \n201902           22   22   23   19   22   24   16   11    1  \n201903           16   20   12   23   18   16   21   16    0  \n201904           20   16   16   11   15   14   16   20    0  \n201905           22   18   16   16    9   21   16   20    0  \n201906           16   21   12   18   20   17   15   13    0  \n201907           19   23   21   13   28   16   18   12    0  \n\n[7 rows x 26 columns]",
      "text/html": "<div>\n<style scoped>\n    .dataframe tbody tr th:only-of-type {\n        vertical-align: middle;\n    }\n\n    .dataframe tbody tr th {\n        vertical-align: top;\n    }\n\n    .dataframe thead th {\n        text-align: right;\n    }\n</style>\n<table border=\"1\" class=\"dataframe\">\n  <thead>\n    <tr style=\"text-align: right;\">\n      <th>item_name</th>\n      <th>상품A</th>\n      <th>상품B</th>\n      <th>상품C</th>\n      <th>상품D</th>\n      <th>상품E</th>\n      <th>상품F</th>\n      <th>상품G</th>\n      <th>상품H</th>\n      <th>상품I</th>\n      <th>상품J</th>\n      <th>...</th>\n      <th>상품Q</th>\n      <th>상품R</th>\n      <th>상품S</th>\n      <th>상품T</th>\n      <th>상품U</th>\n      <th>상품V</th>\n      <th>상품W</th>\n      <th>상품X</th>\n      <th>상품Y</th>\n      <th>상품Z</th>\n    </tr>\n    <tr>\n      <th>purchase_month</th>\n      <th></th>\n      <th></th>\n      <th></th>\n      <th></th>\n      <th></th>\n      <th></th>\n      <th></th>\n      <th></th>\n      <th></th>\n      <th></th>\n      <th></th>\n      <th></th>\n      <th></th>\n      <th></th>\n      <th></th>\n      <th></th>\n      <th></th>\n      <th></th>\n      <th></th>\n      <th></th>\n      <th></th>\n    </tr>\n  </thead>\n  <tbody>\n    <tr>\n      <th>201901</th>\n      <td>18</td>\n      <td>13</td>\n      <td>19</td>\n      <td>17</td>\n      <td>18</td>\n      <td>15</td>\n      <td>11</td>\n      <td>16</td>\n      <td>18</td>\n      <td>17</td>\n      <td>...</td>\n      <td>17</td>\n      <td>21</td>\n      <td>20</td>\n      <td>17</td>\n      <td>7</td>\n      <td>22</td>\n      <td>13</td>\n      <td>14</td>\n      <td>10</td>\n      <td>0</td>\n    </tr>\n    <tr>\n      <th>201902</th>\n      <td>19</td>\n      <td>14</td>\n      <td>26</td>\n      <td>21</td>\n      <td>16</td>\n      <td>14</td>\n      <td>14</td>\n      <td>17</td>\n      <td>12</td>\n      <td>14</td>\n      <td>...</td>\n      <td>22</td>\n      <td>22</td>\n      <td>22</td>\n      <td>23</td>\n      <td>19</td>\n      <td>22</td>\n      <td>24</td>\n      <td>16</td>\n      <td>11</td>\n      <td>1</td>\n    </tr>\n    <tr>\n      <th>201903</th>\n      <td>17</td>\n      <td>21</td>\n      <td>20</td>\n      <td>17</td>\n      <td>9</td>\n      <td>27</td>\n      <td>14</td>\n      <td>18</td>\n      <td>12</td>\n      <td>16</td>\n      <td>...</td>\n      <td>23</td>\n      <td>16</td>\n      <td>20</td>\n      <td>12</td>\n      <td>23</td>\n      <td>18</td>\n      <td>16</td>\n      <td>21</td>\n      <td>16</td>\n      <td>0</td>\n    </tr>\n    <tr>\n      <th>201904</th>\n      <td>17</td>\n      <td>19</td>\n      <td>24</td>\n      <td>20</td>\n      <td>18</td>\n      <td>17</td>\n      <td>14</td>\n      <td>11</td>\n      <td>18</td>\n      <td>13</td>\n      <td>...</td>\n      <td>20</td>\n      <td>20</td>\n      <td>16</td>\n      <td>16</td>\n      <td>11</td>\n      <td>15</td>\n      <td>14</td>\n      <td>16</td>\n      <td>20</td>\n      <td>0</td>\n    </tr>\n    <tr>\n      <th>201905</th>\n      <td>24</td>\n      <td>14</td>\n      <td>16</td>\n      <td>14</td>\n      <td>19</td>\n      <td>18</td>\n      <td>23</td>\n      <td>15</td>\n      <td>16</td>\n      <td>11</td>\n      <td>...</td>\n      <td>13</td>\n      <td>22</td>\n      <td>18</td>\n      <td>16</td>\n      <td>16</td>\n      <td>9</td>\n      <td>21</td>\n      <td>16</td>\n      <td>20</td>\n      <td>0</td>\n    </tr>\n    <tr>\n      <th>201906</th>\n      <td>24</td>\n      <td>12</td>\n      <td>11</td>\n      <td>19</td>\n      <td>13</td>\n      <td>18</td>\n      <td>15</td>\n      <td>13</td>\n      <td>19</td>\n      <td>22</td>\n      <td>...</td>\n      <td>15</td>\n      <td>16</td>\n      <td>21</td>\n      <td>12</td>\n      <td>18</td>\n      <td>20</td>\n      <td>17</td>\n      <td>15</td>\n      <td>13</td>\n      <td>0</td>\n    </tr>\n    <tr>\n      <th>201907</th>\n      <td>20</td>\n      <td>20</td>\n      <td>17</td>\n      <td>17</td>\n      <td>12</td>\n      <td>17</td>\n      <td>19</td>\n      <td>19</td>\n      <td>19</td>\n      <td>23</td>\n      <td>...</td>\n      <td>15</td>\n      <td>19</td>\n      <td>23</td>\n      <td>21</td>\n      <td>13</td>\n      <td>28</td>\n      <td>16</td>\n      <td>18</td>\n      <td>12</td>\n      <td>0</td>\n    </tr>\n  </tbody>\n</table>\n<p>7 rows × 26 columns</p>\n</div>"
     },
     "execution_count": 39,
     "metadata": {},
     "output_type": "execute_result"
    }
   ],
   "source": [
    "byItem = import_data.pivot_table(index=\"purchase_month\",columns=\"item_name\",aggfunc=\"size\",fill_value=0)\n",
    "byItem\n"
   ],
   "metadata": {
    "collapsed": false,
    "ExecuteTime": {
     "end_time": "2024-02-19T12:44:17.433790Z",
     "start_time": "2024-02-19T12:44:17.421146Z"
    }
   },
   "id": "84ddf400fb04a1d0",
   "execution_count": 39
  },
  {
   "cell_type": "code",
   "outputs": [
    {
     "data": {
      "text/plain": "item_name        상품A   상품B   상품C   상품D   상품E    상품F    상품G    상품H    상품I  \\\npurchase_month                                                             \n201901          1800  2600  5700  6800  9000   9000   7700  12800  16200   \n201902          1900  2800  7800  8400  8000   8400   9800  13600  10800   \n201903          1700  4200  6000  6800  4500  16200   9800  14400  10800   \n201904          1700  3800  7200  8000  9000  10200   9800   8800  16200   \n201905          2400  2800  4800  5600  9500  10800  16100  12000  14400   \n201906          2400  2400  3300  7600  6500  10800  10500  10400  17100   \n201907          2000  4000  5100  6800  6000  10200  13300  15200  17100   \n\nitem_name         상품J  ...    상품Q    상품R    상품S    상품T    상품U    상품V    상품W  \\\npurchase_month         ...                                                    \n201901          17000  ...  28900  37800  38000  34000  14700  48400  29900   \n201902          14000  ...  37400  39600  41800  46000  39900  48400  55200   \n201903          16000  ...  39100  28800  38000  24000  48300  39600  36800   \n201904          13000  ...  34000  36000  30400  32000  23100  33000  32200   \n201905          11000  ...  22100  39600  34200  32000  33600  19800  48300   \n201906          22000  ...  25500  28800  39900  24000  37800  44000  39100   \n201907          23000  ...  25500  34200  43700  42000  27300  61600  36800   \n\nitem_name         상품X    상품Y   상품Z  \npurchase_month                      \n201901          33600  25000     0  \n201902          38400  27500  2600  \n201903          50400  40000     0  \n201904          38400  50000     0  \n201905          38400  50000     0  \n201906          36000  32500     0  \n201907          43200  30000     0  \n\n[7 rows x 26 columns]",
      "text/html": "<div>\n<style scoped>\n    .dataframe tbody tr th:only-of-type {\n        vertical-align: middle;\n    }\n\n    .dataframe tbody tr th {\n        vertical-align: top;\n    }\n\n    .dataframe thead th {\n        text-align: right;\n    }\n</style>\n<table border=\"1\" class=\"dataframe\">\n  <thead>\n    <tr style=\"text-align: right;\">\n      <th>item_name</th>\n      <th>상품A</th>\n      <th>상품B</th>\n      <th>상품C</th>\n      <th>상품D</th>\n      <th>상품E</th>\n      <th>상품F</th>\n      <th>상품G</th>\n      <th>상품H</th>\n      <th>상품I</th>\n      <th>상품J</th>\n      <th>...</th>\n      <th>상품Q</th>\n      <th>상품R</th>\n      <th>상품S</th>\n      <th>상품T</th>\n      <th>상품U</th>\n      <th>상품V</th>\n      <th>상품W</th>\n      <th>상품X</th>\n      <th>상품Y</th>\n      <th>상품Z</th>\n    </tr>\n    <tr>\n      <th>purchase_month</th>\n      <th></th>\n      <th></th>\n      <th></th>\n      <th></th>\n      <th></th>\n      <th></th>\n      <th></th>\n      <th></th>\n      <th></th>\n      <th></th>\n      <th></th>\n      <th></th>\n      <th></th>\n      <th></th>\n      <th></th>\n      <th></th>\n      <th></th>\n      <th></th>\n      <th></th>\n      <th></th>\n      <th></th>\n    </tr>\n  </thead>\n  <tbody>\n    <tr>\n      <th>201901</th>\n      <td>1800</td>\n      <td>2600</td>\n      <td>5700</td>\n      <td>6800</td>\n      <td>9000</td>\n      <td>9000</td>\n      <td>7700</td>\n      <td>12800</td>\n      <td>16200</td>\n      <td>17000</td>\n      <td>...</td>\n      <td>28900</td>\n      <td>37800</td>\n      <td>38000</td>\n      <td>34000</td>\n      <td>14700</td>\n      <td>48400</td>\n      <td>29900</td>\n      <td>33600</td>\n      <td>25000</td>\n      <td>0</td>\n    </tr>\n    <tr>\n      <th>201902</th>\n      <td>1900</td>\n      <td>2800</td>\n      <td>7800</td>\n      <td>8400</td>\n      <td>8000</td>\n      <td>8400</td>\n      <td>9800</td>\n      <td>13600</td>\n      <td>10800</td>\n      <td>14000</td>\n      <td>...</td>\n      <td>37400</td>\n      <td>39600</td>\n      <td>41800</td>\n      <td>46000</td>\n      <td>39900</td>\n      <td>48400</td>\n      <td>55200</td>\n      <td>38400</td>\n      <td>27500</td>\n      <td>2600</td>\n    </tr>\n    <tr>\n      <th>201903</th>\n      <td>1700</td>\n      <td>4200</td>\n      <td>6000</td>\n      <td>6800</td>\n      <td>4500</td>\n      <td>16200</td>\n      <td>9800</td>\n      <td>14400</td>\n      <td>10800</td>\n      <td>16000</td>\n      <td>...</td>\n      <td>39100</td>\n      <td>28800</td>\n      <td>38000</td>\n      <td>24000</td>\n      <td>48300</td>\n      <td>39600</td>\n      <td>36800</td>\n      <td>50400</td>\n      <td>40000</td>\n      <td>0</td>\n    </tr>\n    <tr>\n      <th>201904</th>\n      <td>1700</td>\n      <td>3800</td>\n      <td>7200</td>\n      <td>8000</td>\n      <td>9000</td>\n      <td>10200</td>\n      <td>9800</td>\n      <td>8800</td>\n      <td>16200</td>\n      <td>13000</td>\n      <td>...</td>\n      <td>34000</td>\n      <td>36000</td>\n      <td>30400</td>\n      <td>32000</td>\n      <td>23100</td>\n      <td>33000</td>\n      <td>32200</td>\n      <td>38400</td>\n      <td>50000</td>\n      <td>0</td>\n    </tr>\n    <tr>\n      <th>201905</th>\n      <td>2400</td>\n      <td>2800</td>\n      <td>4800</td>\n      <td>5600</td>\n      <td>9500</td>\n      <td>10800</td>\n      <td>16100</td>\n      <td>12000</td>\n      <td>14400</td>\n      <td>11000</td>\n      <td>...</td>\n      <td>22100</td>\n      <td>39600</td>\n      <td>34200</td>\n      <td>32000</td>\n      <td>33600</td>\n      <td>19800</td>\n      <td>48300</td>\n      <td>38400</td>\n      <td>50000</td>\n      <td>0</td>\n    </tr>\n    <tr>\n      <th>201906</th>\n      <td>2400</td>\n      <td>2400</td>\n      <td>3300</td>\n      <td>7600</td>\n      <td>6500</td>\n      <td>10800</td>\n      <td>10500</td>\n      <td>10400</td>\n      <td>17100</td>\n      <td>22000</td>\n      <td>...</td>\n      <td>25500</td>\n      <td>28800</td>\n      <td>39900</td>\n      <td>24000</td>\n      <td>37800</td>\n      <td>44000</td>\n      <td>39100</td>\n      <td>36000</td>\n      <td>32500</td>\n      <td>0</td>\n    </tr>\n    <tr>\n      <th>201907</th>\n      <td>2000</td>\n      <td>4000</td>\n      <td>5100</td>\n      <td>6800</td>\n      <td>6000</td>\n      <td>10200</td>\n      <td>13300</td>\n      <td>15200</td>\n      <td>17100</td>\n      <td>23000</td>\n      <td>...</td>\n      <td>25500</td>\n      <td>34200</td>\n      <td>43700</td>\n      <td>42000</td>\n      <td>27300</td>\n      <td>61600</td>\n      <td>36800</td>\n      <td>43200</td>\n      <td>30000</td>\n      <td>0</td>\n    </tr>\n  </tbody>\n</table>\n<p>7 rows × 26 columns</p>\n</div>"
     },
     "execution_count": 40,
     "metadata": {},
     "output_type": "execute_result"
    }
   ],
   "source": [
    "byPrice = import_data.pivot_table(index=\"purchase_month\",columns=\"item_name\",values=\"item_price\",aggfunc=\"sum\",fill_value=0)\n",
    "byPrice"
   ],
   "metadata": {
    "collapsed": false,
    "ExecuteTime": {
     "end_time": "2024-02-19T12:46:01.538142Z",
     "start_time": "2024-02-19T12:46:01.511502Z"
    }
   },
   "id": "b13a67deda04cc5d",
   "execution_count": 40
  },
  {
   "cell_type": "code",
   "outputs": [
    {
     "data": {
      "text/plain": "고객이름            김가온  김강민  김강현  김건우  김건희  김경민  김규민  김규현  김다온  김대현  ...  김현수  \\\npurchase_month                                                    ...        \n201901            1    2    1    2    5    3    1    1    1    5  ...    3   \n201902            3    1    4    3    3    5    2    3    1    5  ...    5   \n201903            4    0    3    1    1    2    2    1    1    5  ...    3   \n201904            1    0    3    0    2    1    2    6    2    4  ...    0   \n201905            0    0    2    2    1    4    6    3    3    1  ...    2   \n201906            5    0    3    0    2    1    6    1    1    1  ...    2   \n201907            3    1    3    2    2    1    4    1    4    3  ...    2   \n\n고객이름            김현승  김현우  김현준  김현진  김호준  정도형  정영훈  정우석  정준기  \npurchase_month                                               \n201901            2    4    2    1    1    4    4    4    3  \n201902            3    7    0    0    1    2    0    2    2  \n201903            2    1    2    1    2    1    2    3    4  \n201904            4    3    1    1    2    2    4    3    1  \n201905            2    1    4    3    0    0    0    1    2  \n201906            4    1    0    4    2    2    0    0    2  \n201907            1    0    4    0    2    6    1    2    3  \n\n[7 rows x 199 columns]",
      "text/html": "<div>\n<style scoped>\n    .dataframe tbody tr th:only-of-type {\n        vertical-align: middle;\n    }\n\n    .dataframe tbody tr th {\n        vertical-align: top;\n    }\n\n    .dataframe thead th {\n        text-align: right;\n    }\n</style>\n<table border=\"1\" class=\"dataframe\">\n  <thead>\n    <tr style=\"text-align: right;\">\n      <th>고객이름</th>\n      <th>김가온</th>\n      <th>김강민</th>\n      <th>김강현</th>\n      <th>김건우</th>\n      <th>김건희</th>\n      <th>김경민</th>\n      <th>김규민</th>\n      <th>김규현</th>\n      <th>김다온</th>\n      <th>김대현</th>\n      <th>...</th>\n      <th>김현수</th>\n      <th>김현승</th>\n      <th>김현우</th>\n      <th>김현준</th>\n      <th>김현진</th>\n      <th>김호준</th>\n      <th>정도형</th>\n      <th>정영훈</th>\n      <th>정우석</th>\n      <th>정준기</th>\n    </tr>\n    <tr>\n      <th>purchase_month</th>\n      <th></th>\n      <th></th>\n      <th></th>\n      <th></th>\n      <th></th>\n      <th></th>\n      <th></th>\n      <th></th>\n      <th></th>\n      <th></th>\n      <th></th>\n      <th></th>\n      <th></th>\n      <th></th>\n      <th></th>\n      <th></th>\n      <th></th>\n      <th></th>\n      <th></th>\n      <th></th>\n      <th></th>\n    </tr>\n  </thead>\n  <tbody>\n    <tr>\n      <th>201901</th>\n      <td>1</td>\n      <td>2</td>\n      <td>1</td>\n      <td>2</td>\n      <td>5</td>\n      <td>3</td>\n      <td>1</td>\n      <td>1</td>\n      <td>1</td>\n      <td>5</td>\n      <td>...</td>\n      <td>3</td>\n      <td>2</td>\n      <td>4</td>\n      <td>2</td>\n      <td>1</td>\n      <td>1</td>\n      <td>4</td>\n      <td>4</td>\n      <td>4</td>\n      <td>3</td>\n    </tr>\n    <tr>\n      <th>201902</th>\n      <td>3</td>\n      <td>1</td>\n      <td>4</td>\n      <td>3</td>\n      <td>3</td>\n      <td>5</td>\n      <td>2</td>\n      <td>3</td>\n      <td>1</td>\n      <td>5</td>\n      <td>...</td>\n      <td>5</td>\n      <td>3</td>\n      <td>7</td>\n      <td>0</td>\n      <td>0</td>\n      <td>1</td>\n      <td>2</td>\n      <td>0</td>\n      <td>2</td>\n      <td>2</td>\n    </tr>\n    <tr>\n      <th>201903</th>\n      <td>4</td>\n      <td>0</td>\n      <td>3</td>\n      <td>1</td>\n      <td>1</td>\n      <td>2</td>\n      <td>2</td>\n      <td>1</td>\n      <td>1</td>\n      <td>5</td>\n      <td>...</td>\n      <td>3</td>\n      <td>2</td>\n      <td>1</td>\n      <td>2</td>\n      <td>1</td>\n      <td>2</td>\n      <td>1</td>\n      <td>2</td>\n      <td>3</td>\n      <td>4</td>\n    </tr>\n    <tr>\n      <th>201904</th>\n      <td>1</td>\n      <td>0</td>\n      <td>3</td>\n      <td>0</td>\n      <td>2</td>\n      <td>1</td>\n      <td>2</td>\n      <td>6</td>\n      <td>2</td>\n      <td>4</td>\n      <td>...</td>\n      <td>0</td>\n      <td>4</td>\n      <td>3</td>\n      <td>1</td>\n      <td>1</td>\n      <td>2</td>\n      <td>2</td>\n      <td>4</td>\n      <td>3</td>\n      <td>1</td>\n    </tr>\n    <tr>\n      <th>201905</th>\n      <td>0</td>\n      <td>0</td>\n      <td>2</td>\n      <td>2</td>\n      <td>1</td>\n      <td>4</td>\n      <td>6</td>\n      <td>3</td>\n      <td>3</td>\n      <td>1</td>\n      <td>...</td>\n      <td>2</td>\n      <td>2</td>\n      <td>1</td>\n      <td>4</td>\n      <td>3</td>\n      <td>0</td>\n      <td>0</td>\n      <td>0</td>\n      <td>1</td>\n      <td>2</td>\n    </tr>\n    <tr>\n      <th>201906</th>\n      <td>5</td>\n      <td>0</td>\n      <td>3</td>\n      <td>0</td>\n      <td>2</td>\n      <td>1</td>\n      <td>6</td>\n      <td>1</td>\n      <td>1</td>\n      <td>1</td>\n      <td>...</td>\n      <td>2</td>\n      <td>4</td>\n      <td>1</td>\n      <td>0</td>\n      <td>4</td>\n      <td>2</td>\n      <td>2</td>\n      <td>0</td>\n      <td>0</td>\n      <td>2</td>\n    </tr>\n    <tr>\n      <th>201907</th>\n      <td>3</td>\n      <td>1</td>\n      <td>3</td>\n      <td>2</td>\n      <td>2</td>\n      <td>1</td>\n      <td>4</td>\n      <td>1</td>\n      <td>4</td>\n      <td>3</td>\n      <td>...</td>\n      <td>2</td>\n      <td>1</td>\n      <td>0</td>\n      <td>4</td>\n      <td>0</td>\n      <td>2</td>\n      <td>6</td>\n      <td>1</td>\n      <td>2</td>\n      <td>3</td>\n    </tr>\n  </tbody>\n</table>\n<p>7 rows × 199 columns</p>\n</div>"
     },
     "execution_count": 41,
     "metadata": {},
     "output_type": "execute_result"
    }
   ],
   "source": [
    "byCustomer = import_data.pivot_table(index=\"purchase_month\",columns=\"고객이름\",aggfunc=\"size\",fill_value=0)\n",
    "byCustomer"
   ],
   "metadata": {
    "collapsed": false,
    "ExecuteTime": {
     "end_time": "2024-02-19T12:46:50.629138Z",
     "start_time": "2024-02-19T12:46:50.601419Z"
    }
   },
   "id": "bd5f8365e231e24a",
   "execution_count": 41
  },
  {
   "cell_type": "code",
   "outputs": [
    {
     "data": {
      "text/plain": "지역              A시  B시  C시  D시  E시  F시  G시  H시\npurchase_month                                \n201901          59  55  72  34  49  57  49  42\n201902          71  46  65  48  61  52  43  63\n201903          64  52  57  43  52  59  51  59\n201904          64  48  54  45  48  58  40  52\n201905          57  52  68  48  59  65  35  43\n201906          53  47  61  30  51  51  58  58\n201907          76  53  61  42  54  64  47  54",
      "text/html": "<div>\n<style scoped>\n    .dataframe tbody tr th:only-of-type {\n        vertical-align: middle;\n    }\n\n    .dataframe tbody tr th {\n        vertical-align: top;\n    }\n\n    .dataframe thead th {\n        text-align: right;\n    }\n</style>\n<table border=\"1\" class=\"dataframe\">\n  <thead>\n    <tr style=\"text-align: right;\">\n      <th>지역</th>\n      <th>A시</th>\n      <th>B시</th>\n      <th>C시</th>\n      <th>D시</th>\n      <th>E시</th>\n      <th>F시</th>\n      <th>G시</th>\n      <th>H시</th>\n    </tr>\n    <tr>\n      <th>purchase_month</th>\n      <th></th>\n      <th></th>\n      <th></th>\n      <th></th>\n      <th></th>\n      <th></th>\n      <th></th>\n      <th></th>\n    </tr>\n  </thead>\n  <tbody>\n    <tr>\n      <th>201901</th>\n      <td>59</td>\n      <td>55</td>\n      <td>72</td>\n      <td>34</td>\n      <td>49</td>\n      <td>57</td>\n      <td>49</td>\n      <td>42</td>\n    </tr>\n    <tr>\n      <th>201902</th>\n      <td>71</td>\n      <td>46</td>\n      <td>65</td>\n      <td>48</td>\n      <td>61</td>\n      <td>52</td>\n      <td>43</td>\n      <td>63</td>\n    </tr>\n    <tr>\n      <th>201903</th>\n      <td>64</td>\n      <td>52</td>\n      <td>57</td>\n      <td>43</td>\n      <td>52</td>\n      <td>59</td>\n      <td>51</td>\n      <td>59</td>\n    </tr>\n    <tr>\n      <th>201904</th>\n      <td>64</td>\n      <td>48</td>\n      <td>54</td>\n      <td>45</td>\n      <td>48</td>\n      <td>58</td>\n      <td>40</td>\n      <td>52</td>\n    </tr>\n    <tr>\n      <th>201905</th>\n      <td>57</td>\n      <td>52</td>\n      <td>68</td>\n      <td>48</td>\n      <td>59</td>\n      <td>65</td>\n      <td>35</td>\n      <td>43</td>\n    </tr>\n    <tr>\n      <th>201906</th>\n      <td>53</td>\n      <td>47</td>\n      <td>61</td>\n      <td>30</td>\n      <td>51</td>\n      <td>51</td>\n      <td>58</td>\n      <td>58</td>\n    </tr>\n    <tr>\n      <th>201907</th>\n      <td>76</td>\n      <td>53</td>\n      <td>61</td>\n      <td>42</td>\n      <td>54</td>\n      <td>64</td>\n      <td>47</td>\n      <td>54</td>\n    </tr>\n  </tbody>\n</table>\n</div>"
     },
     "execution_count": 42,
     "metadata": {},
     "output_type": "execute_result"
    }
   ],
   "source": [
    "byRegion=import_data.pivot_table(index=\"purchase_month\",columns=\"지역\",aggfunc=\"size\",fill_value=0)\n",
    "byRegion"
   ],
   "metadata": {
    "collapsed": false,
    "ExecuteTime": {
     "end_time": "2024-02-19T12:47:32.842105Z",
     "start_time": "2024-02-19T12:47:32.831721Z"
    }
   },
   "id": "314e6304b9e96af6",
   "execution_count": 42
  },
  {
   "cell_type": "code",
   "outputs": [
    {
     "data": {
      "text/plain": "           purchase_date item_name  item_price customer_name purchase_month  \\\n0    2019-02-24 01:07:00       상품C       300.0           김현성         201902   \n1    2019-05-08 15:42:00       상품P      1600.0           김현성         201905   \n2    2019-07-03 07:49:00       상품M      1300.0           김현성         201907   \n3    2019-01-02 13:52:00       상품L      1200.0           김현성         201901   \n4    2019-06-29 04:58:00       상품R      1800.0           김현성         201906   \n...                  ...       ...         ...           ...            ...   \n2995 2019-02-17 06:40:00       상품S      1900.0           김시현         201902   \n2996 2019-04-23 02:16:00       상품G       700.0           김시현         201904   \n2997 2019-06-15 00:31:00       상품J      1000.0           김시현         201906   \n2998 2019-07-17 23:00:00       상품K      1100.0           김시현         201907   \n2999                 NaT       NaN         NaN           NaN            NaN   \n\n     고객이름  지역        등록일    등록연월  \n0     김현성  H시 2018-01-04  201801  \n1     김현성  H시 2018-01-04  201801  \n2     김현성  H시 2018-01-04  201801  \n3     김현성  H시 2018-01-04  201801  \n4     김현성  H시 2018-01-04  201801  \n...   ...  ..        ...     ...  \n2995  김시현  H시 2019-04-19  201904  \n2996  김시현  H시 2019-04-19  201904  \n2997  김시현  H시 2019-04-19  201904  \n2998  김시현  H시 2019-04-19  201904  \n2999  김서우  D시 2019-04-23  201904  \n\n[3000 rows x 9 columns]",
      "text/html": "<div>\n<style scoped>\n    .dataframe tbody tr th:only-of-type {\n        vertical-align: middle;\n    }\n\n    .dataframe tbody tr th {\n        vertical-align: top;\n    }\n\n    .dataframe thead th {\n        text-align: right;\n    }\n</style>\n<table border=\"1\" class=\"dataframe\">\n  <thead>\n    <tr style=\"text-align: right;\">\n      <th></th>\n      <th>purchase_date</th>\n      <th>item_name</th>\n      <th>item_price</th>\n      <th>customer_name</th>\n      <th>purchase_month</th>\n      <th>고객이름</th>\n      <th>지역</th>\n      <th>등록일</th>\n      <th>등록연월</th>\n    </tr>\n  </thead>\n  <tbody>\n    <tr>\n      <th>0</th>\n      <td>2019-02-24 01:07:00</td>\n      <td>상품C</td>\n      <td>300.0</td>\n      <td>김현성</td>\n      <td>201902</td>\n      <td>김현성</td>\n      <td>H시</td>\n      <td>2018-01-04</td>\n      <td>201801</td>\n    </tr>\n    <tr>\n      <th>1</th>\n      <td>2019-05-08 15:42:00</td>\n      <td>상품P</td>\n      <td>1600.0</td>\n      <td>김현성</td>\n      <td>201905</td>\n      <td>김현성</td>\n      <td>H시</td>\n      <td>2018-01-04</td>\n      <td>201801</td>\n    </tr>\n    <tr>\n      <th>2</th>\n      <td>2019-07-03 07:49:00</td>\n      <td>상품M</td>\n      <td>1300.0</td>\n      <td>김현성</td>\n      <td>201907</td>\n      <td>김현성</td>\n      <td>H시</td>\n      <td>2018-01-04</td>\n      <td>201801</td>\n    </tr>\n    <tr>\n      <th>3</th>\n      <td>2019-01-02 13:52:00</td>\n      <td>상품L</td>\n      <td>1200.0</td>\n      <td>김현성</td>\n      <td>201901</td>\n      <td>김현성</td>\n      <td>H시</td>\n      <td>2018-01-04</td>\n      <td>201801</td>\n    </tr>\n    <tr>\n      <th>4</th>\n      <td>2019-06-29 04:58:00</td>\n      <td>상품R</td>\n      <td>1800.0</td>\n      <td>김현성</td>\n      <td>201906</td>\n      <td>김현성</td>\n      <td>H시</td>\n      <td>2018-01-04</td>\n      <td>201801</td>\n    </tr>\n    <tr>\n      <th>...</th>\n      <td>...</td>\n      <td>...</td>\n      <td>...</td>\n      <td>...</td>\n      <td>...</td>\n      <td>...</td>\n      <td>...</td>\n      <td>...</td>\n      <td>...</td>\n    </tr>\n    <tr>\n      <th>2995</th>\n      <td>2019-02-17 06:40:00</td>\n      <td>상품S</td>\n      <td>1900.0</td>\n      <td>김시현</td>\n      <td>201902</td>\n      <td>김시현</td>\n      <td>H시</td>\n      <td>2019-04-19</td>\n      <td>201904</td>\n    </tr>\n    <tr>\n      <th>2996</th>\n      <td>2019-04-23 02:16:00</td>\n      <td>상품G</td>\n      <td>700.0</td>\n      <td>김시현</td>\n      <td>201904</td>\n      <td>김시현</td>\n      <td>H시</td>\n      <td>2019-04-19</td>\n      <td>201904</td>\n    </tr>\n    <tr>\n      <th>2997</th>\n      <td>2019-06-15 00:31:00</td>\n      <td>상품J</td>\n      <td>1000.0</td>\n      <td>김시현</td>\n      <td>201906</td>\n      <td>김시현</td>\n      <td>H시</td>\n      <td>2019-04-19</td>\n      <td>201904</td>\n    </tr>\n    <tr>\n      <th>2998</th>\n      <td>2019-07-17 23:00:00</td>\n      <td>상품K</td>\n      <td>1100.0</td>\n      <td>김시현</td>\n      <td>201907</td>\n      <td>김시현</td>\n      <td>H시</td>\n      <td>2019-04-19</td>\n      <td>201904</td>\n    </tr>\n    <tr>\n      <th>2999</th>\n      <td>NaT</td>\n      <td>NaN</td>\n      <td>NaN</td>\n      <td>NaN</td>\n      <td>NaN</td>\n      <td>김서우</td>\n      <td>D시</td>\n      <td>2019-04-23</td>\n      <td>201904</td>\n    </tr>\n  </tbody>\n</table>\n<p>3000 rows × 9 columns</p>\n</div>"
     },
     "execution_count": 43,
     "metadata": {},
     "output_type": "execute_result"
    }
   ],
   "source": [
    "away_data = pd.merge(uriage_data,kokyaku_data,left_on=\"customer_name\",right_on=\"고객이름\",how=\"right\")\n",
    "away_data"
   ],
   "metadata": {
    "collapsed": false,
    "ExecuteTime": {
     "end_time": "2024-02-19T12:48:18.301443Z",
     "start_time": "2024-02-19T12:48:18.285172Z"
    }
   },
   "id": "fdc2759338caee64",
   "execution_count": 43
  },
  {
   "cell_type": "code",
   "outputs": [
    {
     "data": {
      "text/plain": "     고객이름        등록일\n2999  김서우 2019-04-23",
      "text/html": "<div>\n<style scoped>\n    .dataframe tbody tr th:only-of-type {\n        vertical-align: middle;\n    }\n\n    .dataframe tbody tr th {\n        vertical-align: top;\n    }\n\n    .dataframe thead th {\n        text-align: right;\n    }\n</style>\n<table border=\"1\" class=\"dataframe\">\n  <thead>\n    <tr style=\"text-align: right;\">\n      <th></th>\n      <th>고객이름</th>\n      <th>등록일</th>\n    </tr>\n  </thead>\n  <tbody>\n    <tr>\n      <th>2999</th>\n      <td>김서우</td>\n      <td>2019-04-23</td>\n    </tr>\n  </tbody>\n</table>\n</div>"
     },
     "execution_count": 44,
     "metadata": {},
     "output_type": "execute_result"
    }
   ],
   "source": [
    "away_data[away_data[\"purchase_date\"].isnull()][[\"고객이름\",\"등록일\"]]"
   ],
   "metadata": {
    "collapsed": false,
    "ExecuteTime": {
     "end_time": "2024-02-19T12:49:28.810270Z",
     "start_time": "2024-02-19T12:49:28.793814Z"
    }
   },
   "id": "158c1b6db982e6f5",
   "execution_count": 44
  },
  {
   "cell_type": "code",
   "outputs": [],
   "source": [],
   "metadata": {
    "collapsed": false
   },
   "id": "463c9bf539b28afc"
  }
 ],
 "metadata": {
  "kernelspec": {
   "display_name": "Python 3",
   "language": "python",
   "name": "python3"
  },
  "language_info": {
   "codemirror_mode": {
    "name": "ipython",
    "version": 2
   },
   "file_extension": ".py",
   "mimetype": "text/x-python",
   "name": "python",
   "nbconvert_exporter": "python",
   "pygments_lexer": "ipython2",
   "version": "2.7.6"
  }
 },
 "nbformat": 4,
 "nbformat_minor": 5
}

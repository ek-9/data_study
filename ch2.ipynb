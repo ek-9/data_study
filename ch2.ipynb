{
 "cells": [
  {
   "cell_type": "code",
   "execution_count": 2,
   "id": "initial_id",
   "metadata": {
    "collapsed": true,
    "ExecuteTime": {
     "end_time": "2024-02-08T07:28:44.152751Z",
     "start_time": "2024-02-08T07:28:44.132211Z"
    }
   },
   "outputs": [
    {
     "data": {
      "text/plain": "      purchase_date item_name  item_price customer_name\n0  2019-06-13 18:02       상품A       100.0           김가온\n1  2019-07-13 13:05     상 품 S         NaN           김우찬\n2  2019-05-11 19:42     상 품 a         NaN           김유찬\n3  2019-02-12 23:40       상품Z      2600.0           김재현\n4   2019-04-22 3:09       상품a         NaN           김강현",
      "text/html": "<div>\n<style scoped>\n    .dataframe tbody tr th:only-of-type {\n        vertical-align: middle;\n    }\n\n    .dataframe tbody tr th {\n        vertical-align: top;\n    }\n\n    .dataframe thead th {\n        text-align: right;\n    }\n</style>\n<table border=\"1\" class=\"dataframe\">\n  <thead>\n    <tr style=\"text-align: right;\">\n      <th></th>\n      <th>purchase_date</th>\n      <th>item_name</th>\n      <th>item_price</th>\n      <th>customer_name</th>\n    </tr>\n  </thead>\n  <tbody>\n    <tr>\n      <th>0</th>\n      <td>2019-06-13 18:02</td>\n      <td>상품A</td>\n      <td>100.0</td>\n      <td>김가온</td>\n    </tr>\n    <tr>\n      <th>1</th>\n      <td>2019-07-13 13:05</td>\n      <td>상 품 S</td>\n      <td>NaN</td>\n      <td>김우찬</td>\n    </tr>\n    <tr>\n      <th>2</th>\n      <td>2019-05-11 19:42</td>\n      <td>상 품 a</td>\n      <td>NaN</td>\n      <td>김유찬</td>\n    </tr>\n    <tr>\n      <th>3</th>\n      <td>2019-02-12 23:40</td>\n      <td>상품Z</td>\n      <td>2600.0</td>\n      <td>김재현</td>\n    </tr>\n    <tr>\n      <th>4</th>\n      <td>2019-04-22 3:09</td>\n      <td>상품a</td>\n      <td>NaN</td>\n      <td>김강현</td>\n    </tr>\n  </tbody>\n</table>\n</div>"
     },
     "execution_count": 2,
     "metadata": {},
     "output_type": "execute_result"
    }
   ],
   "source": [
    "import pandas as pd\n",
    "uriage_data = pd.read_csv(\"excelFiles/2장/uriage.csv\")\n",
    "uriage_data.head()"
   ]
  },
  {
   "cell_type": "code",
   "outputs": [
    {
     "data": {
      "text/plain": "   고객이름  지역                  등록일\n0  김 현성  H시  2018-01-04 00:00:00\n1  김 도윤  E시                42782\n2  김 지한  A시  2018-01-07 00:00:00\n3  김 하윤  F시                42872\n4  김 시온  E시                43127",
      "text/html": "<div>\n<style scoped>\n    .dataframe tbody tr th:only-of-type {\n        vertical-align: middle;\n    }\n\n    .dataframe tbody tr th {\n        vertical-align: top;\n    }\n\n    .dataframe thead th {\n        text-align: right;\n    }\n</style>\n<table border=\"1\" class=\"dataframe\">\n  <thead>\n    <tr style=\"text-align: right;\">\n      <th></th>\n      <th>고객이름</th>\n      <th>지역</th>\n      <th>등록일</th>\n    </tr>\n  </thead>\n  <tbody>\n    <tr>\n      <th>0</th>\n      <td>김 현성</td>\n      <td>H시</td>\n      <td>2018-01-04 00:00:00</td>\n    </tr>\n    <tr>\n      <th>1</th>\n      <td>김 도윤</td>\n      <td>E시</td>\n      <td>42782</td>\n    </tr>\n    <tr>\n      <th>2</th>\n      <td>김 지한</td>\n      <td>A시</td>\n      <td>2018-01-07 00:00:00</td>\n    </tr>\n    <tr>\n      <th>3</th>\n      <td>김 하윤</td>\n      <td>F시</td>\n      <td>42872</td>\n    </tr>\n    <tr>\n      <th>4</th>\n      <td>김 시온</td>\n      <td>E시</td>\n      <td>43127</td>\n    </tr>\n  </tbody>\n</table>\n</div>"
     },
     "execution_count": 5,
     "metadata": {},
     "output_type": "execute_result"
    }
   ],
   "source": [
    "kokyaku_data = pd.read_excel(\"excelFiles/2장/kokyaku_daicho.xlsx\")\n",
    "kokyaku_data.head()\n",
    "\n",
    "'''\n",
    "데이터에 나타나는 입력 오류나 표기 방법의 차이가 부정합을 일으킬 때\n",
    "데이터의 정합성에 문제가 있다. 라고한다\n",
    "날짜 포맷이 다르면 같은 날짜라도 다른 문자열 데이터가 됨\n",
    "또는 공백 유무로 다른 데이터로 인식될 수 있음\n",
    "'''"
   ],
   "metadata": {
    "collapsed": false,
    "ExecuteTime": {
     "end_time": "2024-02-08T07:30:56.065147Z",
     "start_time": "2024-02-08T07:30:55.906777Z"
    }
   },
   "id": "3aa552a339aa7ecb",
   "execution_count": 5
  },
  {
   "cell_type": "code",
   "outputs": [
    {
     "data": {
      "text/plain": "0      상품A\n1    상 품 S\n2    상 품 a\n3      상품Z\n4      상품a\nName: item_name, dtype: object"
     },
     "execution_count": 6,
     "metadata": {},
     "output_type": "execute_result"
    }
   ],
   "source": [
    "uriage_data[\"item_name\"].head()"
   ],
   "metadata": {
    "collapsed": false,
    "ExecuteTime": {
     "end_time": "2024-02-08T07:33:44.183293Z",
     "start_time": "2024-02-08T07:33:44.178040Z"
    }
   },
   "id": "9179e633921bce3c",
   "execution_count": 6
  },
  {
   "cell_type": "code",
   "outputs": [
    {
     "data": {
      "text/plain": "0     100.0\n1       NaN\n2       NaN\n3    2600.0\n4       NaN\nName: item_price, dtype: float64"
     },
     "execution_count": 7,
     "metadata": {},
     "output_type": "execute_result"
    }
   ],
   "source": [
    "uriage_data[\"item_price\"].head()"
   ],
   "metadata": {
    "collapsed": false,
    "ExecuteTime": {
     "end_time": "2024-02-08T07:33:57.241343Z",
     "start_time": "2024-02-08T07:33:57.238272Z"
    }
   },
   "id": "c31a529a0a8b77ec",
   "execution_count": 7
  },
  {
   "cell_type": "code",
   "outputs": [
    {
     "data": {
      "text/plain": "item_name        상 품 n   상품 E   상품 M   상품 P   상품 S   상품 W   상품 X   상품W  상  품O  \\\npurchase_month                                                                  \n201901               1      0      0      0      0      0      0     0      0   \n201902               0      0      0      0      0      0      1     0      0   \n201903               0      1      1      1      0      0      0     0      0   \n201904               0      0      0      0      0      0      0     1      0   \n201905               0      0      0      0      1      0      0     0      0   \n201906               0      0      0      0      0      1      0     0      0   \n201907               0      0      0      0      0      0      0     0      1   \n\nitem_name       상  품Q  ...  상품k  상품l  상품o  상품p  상품r  상품s  상품t  상품v  상품x  상품y  \npurchase_month         ...                                                    \n201901              0  ...    1    1    1    0    0    0    0    0    0    0  \n201902              0  ...    0    0    0    0    0    1    1    1    0    0  \n201903              0  ...    0    0    0    0    0    0    0    0    0    0  \n201904              1  ...    0    0    0    0    0    1    0    0    0    0  \n201905              0  ...    0    1    0    0    0    0    0    0    0    1  \n201906              0  ...    0    0    0    1    0    0    0    0    1    0  \n201907              0  ...    0    0    1    0    2    0    0    0    0    0  \n\n[7 rows x 99 columns]",
      "text/html": "<div>\n<style scoped>\n    .dataframe tbody tr th:only-of-type {\n        vertical-align: middle;\n    }\n\n    .dataframe tbody tr th {\n        vertical-align: top;\n    }\n\n    .dataframe thead th {\n        text-align: right;\n    }\n</style>\n<table border=\"1\" class=\"dataframe\">\n  <thead>\n    <tr style=\"text-align: right;\">\n      <th>item_name</th>\n      <th>상 품 n</th>\n      <th>상품 E</th>\n      <th>상품 M</th>\n      <th>상품 P</th>\n      <th>상품 S</th>\n      <th>상품 W</th>\n      <th>상품 X</th>\n      <th>상품W</th>\n      <th>상  품O</th>\n      <th>상  품Q</th>\n      <th>...</th>\n      <th>상품k</th>\n      <th>상품l</th>\n      <th>상품o</th>\n      <th>상품p</th>\n      <th>상품r</th>\n      <th>상품s</th>\n      <th>상품t</th>\n      <th>상품v</th>\n      <th>상품x</th>\n      <th>상품y</th>\n    </tr>\n    <tr>\n      <th>purchase_month</th>\n      <th></th>\n      <th></th>\n      <th></th>\n      <th></th>\n      <th></th>\n      <th></th>\n      <th></th>\n      <th></th>\n      <th></th>\n      <th></th>\n      <th></th>\n      <th></th>\n      <th></th>\n      <th></th>\n      <th></th>\n      <th></th>\n      <th></th>\n      <th></th>\n      <th></th>\n      <th></th>\n      <th></th>\n    </tr>\n  </thead>\n  <tbody>\n    <tr>\n      <th>201901</th>\n      <td>1</td>\n      <td>0</td>\n      <td>0</td>\n      <td>0</td>\n      <td>0</td>\n      <td>0</td>\n      <td>0</td>\n      <td>0</td>\n      <td>0</td>\n      <td>0</td>\n      <td>...</td>\n      <td>1</td>\n      <td>1</td>\n      <td>1</td>\n      <td>0</td>\n      <td>0</td>\n      <td>0</td>\n      <td>0</td>\n      <td>0</td>\n      <td>0</td>\n      <td>0</td>\n    </tr>\n    <tr>\n      <th>201902</th>\n      <td>0</td>\n      <td>0</td>\n      <td>0</td>\n      <td>0</td>\n      <td>0</td>\n      <td>0</td>\n      <td>1</td>\n      <td>0</td>\n      <td>0</td>\n      <td>0</td>\n      <td>...</td>\n      <td>0</td>\n      <td>0</td>\n      <td>0</td>\n      <td>0</td>\n      <td>0</td>\n      <td>1</td>\n      <td>1</td>\n      <td>1</td>\n      <td>0</td>\n      <td>0</td>\n    </tr>\n    <tr>\n      <th>201903</th>\n      <td>0</td>\n      <td>1</td>\n      <td>1</td>\n      <td>1</td>\n      <td>0</td>\n      <td>0</td>\n      <td>0</td>\n      <td>0</td>\n      <td>0</td>\n      <td>0</td>\n      <td>...</td>\n      <td>0</td>\n      <td>0</td>\n      <td>0</td>\n      <td>0</td>\n      <td>0</td>\n      <td>0</td>\n      <td>0</td>\n      <td>0</td>\n      <td>0</td>\n      <td>0</td>\n    </tr>\n    <tr>\n      <th>201904</th>\n      <td>0</td>\n      <td>0</td>\n      <td>0</td>\n      <td>0</td>\n      <td>0</td>\n      <td>0</td>\n      <td>0</td>\n      <td>1</td>\n      <td>0</td>\n      <td>1</td>\n      <td>...</td>\n      <td>0</td>\n      <td>0</td>\n      <td>0</td>\n      <td>0</td>\n      <td>0</td>\n      <td>1</td>\n      <td>0</td>\n      <td>0</td>\n      <td>0</td>\n      <td>0</td>\n    </tr>\n    <tr>\n      <th>201905</th>\n      <td>0</td>\n      <td>0</td>\n      <td>0</td>\n      <td>0</td>\n      <td>1</td>\n      <td>0</td>\n      <td>0</td>\n      <td>0</td>\n      <td>0</td>\n      <td>0</td>\n      <td>...</td>\n      <td>0</td>\n      <td>1</td>\n      <td>0</td>\n      <td>0</td>\n      <td>0</td>\n      <td>0</td>\n      <td>0</td>\n      <td>0</td>\n      <td>0</td>\n      <td>1</td>\n    </tr>\n    <tr>\n      <th>201906</th>\n      <td>0</td>\n      <td>0</td>\n      <td>0</td>\n      <td>0</td>\n      <td>0</td>\n      <td>1</td>\n      <td>0</td>\n      <td>0</td>\n      <td>0</td>\n      <td>0</td>\n      <td>...</td>\n      <td>0</td>\n      <td>0</td>\n      <td>0</td>\n      <td>1</td>\n      <td>0</td>\n      <td>0</td>\n      <td>0</td>\n      <td>0</td>\n      <td>1</td>\n      <td>0</td>\n    </tr>\n    <tr>\n      <th>201907</th>\n      <td>0</td>\n      <td>0</td>\n      <td>0</td>\n      <td>0</td>\n      <td>0</td>\n      <td>0</td>\n      <td>0</td>\n      <td>0</td>\n      <td>1</td>\n      <td>0</td>\n      <td>...</td>\n      <td>0</td>\n      <td>0</td>\n      <td>1</td>\n      <td>0</td>\n      <td>2</td>\n      <td>0</td>\n      <td>0</td>\n      <td>0</td>\n      <td>0</td>\n      <td>0</td>\n    </tr>\n  </tbody>\n</table>\n<p>7 rows × 99 columns</p>\n</div>"
     },
     "execution_count": 8,
     "metadata": {},
     "output_type": "execute_result"
    }
   ],
   "source": [
    "# 매출 이력에서 상품별로 월 매출 합계 집계\n",
    "\n",
    "uriage_data[\"purchase_date\"] = pd.to_datetime(uriage_data[\"purchase_date\"])\n",
    "uriage_data[\"purchase_month\"] = uriage_data[\"purchase_date\"].dt.strftime(\"%Y%m\")\n",
    "res = uriage_data.pivot_table(index=\"purchase_month\", columns = \"item_name\", aggfunc=\"size\", fill_value = 0)\n",
    "res"
   ],
   "metadata": {
    "collapsed": false,
    "ExecuteTime": {
     "end_time": "2024-02-08T07:42:39.422861Z",
     "start_time": "2024-02-08T07:42:39.405238Z"
    }
   },
   "id": "3d538d790118dcd9",
   "execution_count": 8
  },
  {
   "cell_type": "code",
   "outputs": [],
   "source": [],
   "metadata": {
    "collapsed": false
   },
   "id": "e7c4b3d79fafe875"
  }
 ],
 "metadata": {
  "kernelspec": {
   "display_name": "Python 3",
   "language": "python",
   "name": "python3"
  },
  "language_info": {
   "codemirror_mode": {
    "name": "ipython",
    "version": 2
   },
   "file_extension": ".py",
   "mimetype": "text/x-python",
   "name": "python",
   "nbconvert_exporter": "python",
   "pygments_lexer": "ipython2",
   "version": "2.7.6"
  }
 },
 "nbformat": 4,
 "nbformat_minor": 5
}
